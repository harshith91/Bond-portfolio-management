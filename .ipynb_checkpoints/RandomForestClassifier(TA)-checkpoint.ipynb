{
 "cells": [
  {
   "cell_type": "code",
   "execution_count": 64,
   "metadata": {},
   "outputs": [],
   "source": [
    "import matplotlib.pyplot as plt\n",
    "import numpy as np\n",
    "import pandas as pd\n",
    "import talib as ta\n",
    "from copy import copy\n",
    "from sklearn.ensemble import RandomForestClassifier\n",
    "from sklearn.model_selection import train_test_split\n",
    "from sklearn.model_selection import GridSearchCV\n",
    "from sklearn.feature_selection import SelectFromModel\n",
    "from sklearn.metrics import accuracy_score,classification_report"
   ]
  },
  {
   "cell_type": "code",
   "execution_count": 2,
   "metadata": {},
   "outputs": [],
   "source": [
    "from ta_suite import ta_suite\n",
    "from ta_signals import ta_signals\n",
    "from trading import act\n",
    "from trading import pnl_profile"
   ]
  },
  {
   "cell_type": "code",
   "execution_count": 3,
   "metadata": {},
   "outputs": [],
   "source": [
    "nifty = pd.read_csv(r\"C:\\Users\\1987h\\Downloads\\Data science, machine learning and Quant Trading\\algorithmic trading\\GetZerodhaData\\NIFTY 50.csv\")"
   ]
  },
  {
   "cell_type": "code",
   "execution_count": 4,
   "metadata": {},
   "outputs": [],
   "source": [
    "tt = ta_suite(nifty)\n",
    "df = tt.combine()"
   ]
  },
  {
   "cell_type": "code",
   "execution_count": 1,
   "metadata": {},
   "outputs": [
    {
     "ename": "NameError",
     "evalue": "name 'df' is not defined",
     "output_type": "error",
     "traceback": [
      "\u001b[1;31m---------------------------------------------------------------------------\u001b[0m",
      "\u001b[1;31mNameError\u001b[0m                                 Traceback (most recent call last)",
      "\u001b[1;32m<ipython-input-1-c42a15b2c7cf>\u001b[0m in \u001b[0;36m<module>\u001b[1;34m\u001b[0m\n\u001b[1;32m----> 1\u001b[1;33m \u001b[0mdf\u001b[0m\u001b[1;33m.\u001b[0m\u001b[0mhead\u001b[0m\u001b[1;33m(\u001b[0m\u001b[1;33m)\u001b[0m\u001b[1;33m\u001b[0m\u001b[1;33m\u001b[0m\u001b[0m\n\u001b[0m",
      "\u001b[1;31mNameError\u001b[0m: name 'df' is not defined"
     ]
    }
   ],
   "source": [
    "df.head()"
   ]
  },
  {
   "cell_type": "markdown",
   "metadata": {},
   "source": [
    "# RandomForestClassifier for feature selection"
   ]
  },
  {
   "cell_type": "code",
   "execution_count": 6,
   "metadata": {},
   "outputs": [
    {
     "data": {
      "text/plain": [
       "Index(['Date', 'Time', 'Open', 'Slowk', 'Slowd', 'MiddleBand', 'UpperBand_2',\n",
       "       'LowerBand_2', 'BandSplit_2', 'UpperBand_1', 'LowerBand_1', 'BRatio_2',\n",
       "       'RSI', 'ema_50_21', 'ema_100_50', 'ema_200_100', 'CCI', 'ATR', 'SAR',\n",
       "       'CORR', 'returns', 'future returns', 'future returns(classifier)'],\n",
       "      dtype='object')"
      ]
     },
     "execution_count": 6,
     "metadata": {},
     "output_type": "execute_result"
    }
   ],
   "source": [
    "df.columns"
   ]
  },
  {
   "cell_type": "code",
   "execution_count": 47,
   "metadata": {},
   "outputs": [],
   "source": [
    "# features\n",
    "features = ['Slowk', 'Slowd','BandSplit_2','BRatio_2','RSI', 'ema_50_21', 'ema_100_50',\n",
    "       'ema_200_100', 'CCI', 'ATR','SAR', 'CORR','returns']\n",
    "\n",
    "#preparing the data for training and testing\n",
    "X = df[features]\n",
    "y = df['future returns(classifier)']\n",
    "X_train,X_test,y_train,y_test=train_test_split(X,y,test_size=0.4,shuffle=False)"
   ]
  },
  {
   "cell_type": "code",
   "execution_count": 48,
   "metadata": {},
   "outputs": [
    {
     "data": {
      "text/html": [
       "<div>\n",
       "<style scoped>\n",
       "    .dataframe tbody tr th:only-of-type {\n",
       "        vertical-align: middle;\n",
       "    }\n",
       "\n",
       "    .dataframe tbody tr th {\n",
       "        vertical-align: top;\n",
       "    }\n",
       "\n",
       "    .dataframe thead th {\n",
       "        text-align: right;\n",
       "    }\n",
       "</style>\n",
       "<table border=\"1\" class=\"dataframe\">\n",
       "  <thead>\n",
       "    <tr style=\"text-align: right;\">\n",
       "      <th></th>\n",
       "      <th>Slowk</th>\n",
       "      <th>Slowd</th>\n",
       "      <th>BandSplit_2</th>\n",
       "      <th>BRatio_2</th>\n",
       "      <th>RSI</th>\n",
       "      <th>ema_50_21</th>\n",
       "      <th>ema_100_50</th>\n",
       "      <th>ema_200_100</th>\n",
       "      <th>CCI</th>\n",
       "      <th>ATR</th>\n",
       "      <th>SAR</th>\n",
       "      <th>CORR</th>\n",
       "      <th>returns</th>\n",
       "    </tr>\n",
       "  </thead>\n",
       "  <tbody>\n",
       "    <tr>\n",
       "      <th>Slowk</th>\n",
       "      <td>1.000000</td>\n",
       "      <td>0.894189</td>\n",
       "      <td>-0.025096</td>\n",
       "      <td>0.667353</td>\n",
       "      <td>0.636918</td>\n",
       "      <td>-0.192750</td>\n",
       "      <td>-0.113384</td>\n",
       "      <td>-0.064926</td>\n",
       "      <td>0.789637</td>\n",
       "      <td>-0.051707</td>\n",
       "      <td>-0.027398</td>\n",
       "      <td>0.032523</td>\n",
       "      <td>0.191715</td>\n",
       "    </tr>\n",
       "    <tr>\n",
       "      <th>Slowd</th>\n",
       "      <td>0.894189</td>\n",
       "      <td>1.000000</td>\n",
       "      <td>-0.038822</td>\n",
       "      <td>0.403421</td>\n",
       "      <td>0.641144</td>\n",
       "      <td>-0.240272</td>\n",
       "      <td>-0.136139</td>\n",
       "      <td>-0.075990</td>\n",
       "      <td>0.739664</td>\n",
       "      <td>-0.062137</td>\n",
       "      <td>-0.018614</td>\n",
       "      <td>0.035417</td>\n",
       "      <td>0.074083</td>\n",
       "    </tr>\n",
       "    <tr>\n",
       "      <th>BandSplit_2</th>\n",
       "      <td>-0.025096</td>\n",
       "      <td>-0.038822</td>\n",
       "      <td>1.000000</td>\n",
       "      <td>-0.008767</td>\n",
       "      <td>-0.059371</td>\n",
       "      <td>0.100314</td>\n",
       "      <td>0.111347</td>\n",
       "      <td>0.133163</td>\n",
       "      <td>-0.023570</td>\n",
       "      <td>0.577409</td>\n",
       "      <td>-0.028601</td>\n",
       "      <td>0.102970</td>\n",
       "      <td>-0.028152</td>\n",
       "    </tr>\n",
       "    <tr>\n",
       "      <th>BRatio_2</th>\n",
       "      <td>0.667353</td>\n",
       "      <td>0.403421</td>\n",
       "      <td>-0.008767</td>\n",
       "      <td>1.000000</td>\n",
       "      <td>0.524939</td>\n",
       "      <td>-0.095176</td>\n",
       "      <td>-0.054863</td>\n",
       "      <td>-0.030287</td>\n",
       "      <td>0.672254</td>\n",
       "      <td>-0.031335</td>\n",
       "      <td>-0.030256</td>\n",
       "      <td>0.025923</td>\n",
       "      <td>0.493100</td>\n",
       "    </tr>\n",
       "    <tr>\n",
       "      <th>RSI</th>\n",
       "      <td>0.636918</td>\n",
       "      <td>0.641144</td>\n",
       "      <td>-0.059371</td>\n",
       "      <td>0.524939</td>\n",
       "      <td>1.000000</td>\n",
       "      <td>-0.666953</td>\n",
       "      <td>-0.406995</td>\n",
       "      <td>-0.212440</td>\n",
       "      <td>0.778646</td>\n",
       "      <td>-0.128694</td>\n",
       "      <td>0.002311</td>\n",
       "      <td>0.054880</td>\n",
       "      <td>0.239420</td>\n",
       "    </tr>\n",
       "    <tr>\n",
       "      <th>ema_50_21</th>\n",
       "      <td>-0.192750</td>\n",
       "      <td>-0.240272</td>\n",
       "      <td>0.100314</td>\n",
       "      <td>-0.095176</td>\n",
       "      <td>-0.666953</td>\n",
       "      <td>1.000000</td>\n",
       "      <td>0.825455</td>\n",
       "      <td>0.516614</td>\n",
       "      <td>-0.254794</td>\n",
       "      <td>0.222364</td>\n",
       "      <td>-0.064665</td>\n",
       "      <td>-0.037872</td>\n",
       "      <td>-0.024185</td>\n",
       "    </tr>\n",
       "    <tr>\n",
       "      <th>ema_100_50</th>\n",
       "      <td>-0.113384</td>\n",
       "      <td>-0.136139</td>\n",
       "      <td>0.111347</td>\n",
       "      <td>-0.054863</td>\n",
       "      <td>-0.406995</td>\n",
       "      <td>0.825455</td>\n",
       "      <td>1.000000</td>\n",
       "      <td>0.852236</td>\n",
       "      <td>-0.127069</td>\n",
       "      <td>0.269902</td>\n",
       "      <td>-0.112860</td>\n",
       "      <td>-0.030459</td>\n",
       "      <td>-0.011638</td>\n",
       "    </tr>\n",
       "    <tr>\n",
       "      <th>ema_200_100</th>\n",
       "      <td>-0.064926</td>\n",
       "      <td>-0.075990</td>\n",
       "      <td>0.133163</td>\n",
       "      <td>-0.030287</td>\n",
       "      <td>-0.212440</td>\n",
       "      <td>0.516614</td>\n",
       "      <td>0.852236</td>\n",
       "      <td>1.000000</td>\n",
       "      <td>-0.065012</td>\n",
       "      <td>0.315274</td>\n",
       "      <td>-0.188597</td>\n",
       "      <td>-0.020839</td>\n",
       "      <td>-0.006889</td>\n",
       "    </tr>\n",
       "    <tr>\n",
       "      <th>CCI</th>\n",
       "      <td>0.789637</td>\n",
       "      <td>0.739664</td>\n",
       "      <td>-0.023570</td>\n",
       "      <td>0.672254</td>\n",
       "      <td>0.778646</td>\n",
       "      <td>-0.254794</td>\n",
       "      <td>-0.127069</td>\n",
       "      <td>-0.065012</td>\n",
       "      <td>1.000000</td>\n",
       "      <td>-0.063202</td>\n",
       "      <td>-0.021776</td>\n",
       "      <td>0.048052</td>\n",
       "      <td>0.257204</td>\n",
       "    </tr>\n",
       "    <tr>\n",
       "      <th>ATR</th>\n",
       "      <td>-0.051707</td>\n",
       "      <td>-0.062137</td>\n",
       "      <td>0.577409</td>\n",
       "      <td>-0.031335</td>\n",
       "      <td>-0.128694</td>\n",
       "      <td>0.222364</td>\n",
       "      <td>0.269902</td>\n",
       "      <td>0.315274</td>\n",
       "      <td>-0.063202</td>\n",
       "      <td>1.000000</td>\n",
       "      <td>-0.069920</td>\n",
       "      <td>0.000623</td>\n",
       "      <td>-0.011148</td>\n",
       "    </tr>\n",
       "    <tr>\n",
       "      <th>SAR</th>\n",
       "      <td>-0.027398</td>\n",
       "      <td>-0.018614</td>\n",
       "      <td>-0.028601</td>\n",
       "      <td>-0.030256</td>\n",
       "      <td>0.002311</td>\n",
       "      <td>-0.064665</td>\n",
       "      <td>-0.112860</td>\n",
       "      <td>-0.188597</td>\n",
       "      <td>-0.021776</td>\n",
       "      <td>-0.069920</td>\n",
       "      <td>1.000000</td>\n",
       "      <td>0.012905</td>\n",
       "      <td>-0.015519</td>\n",
       "    </tr>\n",
       "    <tr>\n",
       "      <th>CORR</th>\n",
       "      <td>0.032523</td>\n",
       "      <td>0.035417</td>\n",
       "      <td>0.102970</td>\n",
       "      <td>0.025923</td>\n",
       "      <td>0.054880</td>\n",
       "      <td>-0.037872</td>\n",
       "      <td>-0.030459</td>\n",
       "      <td>-0.020839</td>\n",
       "      <td>0.048052</td>\n",
       "      <td>0.000623</td>\n",
       "      <td>0.012905</td>\n",
       "      <td>1.000000</td>\n",
       "      <td>0.002813</td>\n",
       "    </tr>\n",
       "    <tr>\n",
       "      <th>returns</th>\n",
       "      <td>0.191715</td>\n",
       "      <td>0.074083</td>\n",
       "      <td>-0.028152</td>\n",
       "      <td>0.493100</td>\n",
       "      <td>0.239420</td>\n",
       "      <td>-0.024185</td>\n",
       "      <td>-0.011638</td>\n",
       "      <td>-0.006889</td>\n",
       "      <td>0.257204</td>\n",
       "      <td>-0.011148</td>\n",
       "      <td>-0.015519</td>\n",
       "      <td>0.002813</td>\n",
       "      <td>1.000000</td>\n",
       "    </tr>\n",
       "  </tbody>\n",
       "</table>\n",
       "</div>"
      ],
      "text/plain": [
       "                Slowk     Slowd  BandSplit_2  BRatio_2       RSI  ema_50_21  \\\n",
       "Slowk        1.000000  0.894189    -0.025096  0.667353  0.636918  -0.192750   \n",
       "Slowd        0.894189  1.000000    -0.038822  0.403421  0.641144  -0.240272   \n",
       "BandSplit_2 -0.025096 -0.038822     1.000000 -0.008767 -0.059371   0.100314   \n",
       "BRatio_2     0.667353  0.403421    -0.008767  1.000000  0.524939  -0.095176   \n",
       "RSI          0.636918  0.641144    -0.059371  0.524939  1.000000  -0.666953   \n",
       "ema_50_21   -0.192750 -0.240272     0.100314 -0.095176 -0.666953   1.000000   \n",
       "ema_100_50  -0.113384 -0.136139     0.111347 -0.054863 -0.406995   0.825455   \n",
       "ema_200_100 -0.064926 -0.075990     0.133163 -0.030287 -0.212440   0.516614   \n",
       "CCI          0.789637  0.739664    -0.023570  0.672254  0.778646  -0.254794   \n",
       "ATR         -0.051707 -0.062137     0.577409 -0.031335 -0.128694   0.222364   \n",
       "SAR         -0.027398 -0.018614    -0.028601 -0.030256  0.002311  -0.064665   \n",
       "CORR         0.032523  0.035417     0.102970  0.025923  0.054880  -0.037872   \n",
       "returns      0.191715  0.074083    -0.028152  0.493100  0.239420  -0.024185   \n",
       "\n",
       "             ema_100_50  ema_200_100       CCI       ATR       SAR      CORR  \\\n",
       "Slowk         -0.113384    -0.064926  0.789637 -0.051707 -0.027398  0.032523   \n",
       "Slowd         -0.136139    -0.075990  0.739664 -0.062137 -0.018614  0.035417   \n",
       "BandSplit_2    0.111347     0.133163 -0.023570  0.577409 -0.028601  0.102970   \n",
       "BRatio_2      -0.054863    -0.030287  0.672254 -0.031335 -0.030256  0.025923   \n",
       "RSI           -0.406995    -0.212440  0.778646 -0.128694  0.002311  0.054880   \n",
       "ema_50_21      0.825455     0.516614 -0.254794  0.222364 -0.064665 -0.037872   \n",
       "ema_100_50     1.000000     0.852236 -0.127069  0.269902 -0.112860 -0.030459   \n",
       "ema_200_100    0.852236     1.000000 -0.065012  0.315274 -0.188597 -0.020839   \n",
       "CCI           -0.127069    -0.065012  1.000000 -0.063202 -0.021776  0.048052   \n",
       "ATR            0.269902     0.315274 -0.063202  1.000000 -0.069920  0.000623   \n",
       "SAR           -0.112860    -0.188597 -0.021776 -0.069920  1.000000  0.012905   \n",
       "CORR          -0.030459    -0.020839  0.048052  0.000623  0.012905  1.000000   \n",
       "returns       -0.011638    -0.006889  0.257204 -0.011148 -0.015519  0.002813   \n",
       "\n",
       "              returns  \n",
       "Slowk        0.191715  \n",
       "Slowd        0.074083  \n",
       "BandSplit_2 -0.028152  \n",
       "BRatio_2     0.493100  \n",
       "RSI          0.239420  \n",
       "ema_50_21   -0.024185  \n",
       "ema_100_50  -0.011638  \n",
       "ema_200_100 -0.006889  \n",
       "CCI          0.257204  \n",
       "ATR         -0.011148  \n",
       "SAR         -0.015519  \n",
       "CORR         0.002813  \n",
       "returns      1.000000  "
      ]
     },
     "execution_count": 48,
     "metadata": {},
     "output_type": "execute_result"
    }
   ],
   "source": [
    "X_train.corr(method='pearson')"
   ]
  },
  {
   "cell_type": "code",
   "execution_count": 49,
   "metadata": {},
   "outputs": [
    {
     "name": "stdout",
     "output_type": "stream",
     "text": [
      "('Slowk', 0.07536849637184556)\n",
      "('Slowd', 0.07662148897450509)\n",
      "('BandSplit_2', 0.07666742748058009)\n",
      "('BRatio_2', 0.07826763800130745)\n",
      "('RSI', 0.07827207252937639)\n",
      "('ema_50_21', 0.07336220241830584)\n",
      "('ema_100_50', 0.0719417625563189)\n",
      "('ema_200_100', 0.07294680653002869)\n",
      "('CCI', 0.07783650267685777)\n",
      "('ATR', 0.07565046405618563)\n",
      "('SAR', 0.07571578771240403)\n",
      "('CORR', 0.08897260068354026)\n",
      "('returns', 0.07837675000874408)\n"
     ]
    }
   ],
   "source": [
    "#Create a random forest classifier\n",
    "clf=RandomForestClassifier(n_estimators=1000,random_state=0,n_jobs=-1)\n",
    "#Train the classifier\n",
    "clf.fit(X_train, y_train)\n",
    "\n",
    "#Print the name and gini importance of each feature\n",
    "for feature in zip(features, clf.feature_importances_):\n",
    "    print(feature)"
   ]
  },
  {
   "cell_type": "code",
   "execution_count": 50,
   "metadata": {},
   "outputs": [
    {
     "data": {
      "text/plain": [
       "0.5411059378786912"
      ]
     },
     "execution_count": 50,
     "metadata": {},
     "output_type": "execute_result"
    }
   ],
   "source": [
    "y_pred = clf.predict(X_test)\n",
    "accuracy_score(y_test, y_pred)"
   ]
  },
  {
   "cell_type": "code",
   "execution_count": 51,
   "metadata": {},
   "outputs": [
    {
     "name": "stdout",
     "output_type": "stream",
     "text": [
      "When always predicting negative: \n"
     ]
    },
    {
     "data": {
      "text/plain": [
       "'Baseline accuracy of 0.5037948848778621'"
      ]
     },
     "execution_count": 51,
     "metadata": {},
     "output_type": "execute_result"
    }
   ],
   "source": [
    "def baseline(X_test):\n",
    "    X = copy(X_test)\n",
    "    X = X.reset_index(drop=True)\n",
    "    total = X.shape[0]\n",
    "    positives = X.loc[X[\"returns\"]>0,:].shape[0]\n",
    "    negatives = total - positives\n",
    "    if(positives>negatives):\n",
    "        print(\"When always predicting positive: \")\n",
    "        return(f\"Baseline accuracy of {positives/total}\")\n",
    "    else:\n",
    "        print(\"When always predicting negative: \")\n",
    "        return(f\"Baseline accuracy of {negatives/total}\")\n",
    "\n",
    "baseline(X_test)\n",
    "    "
   ]
  },
  {
   "cell_type": "code",
   "execution_count": 53,
   "metadata": {},
   "outputs": [
    {
     "name": "stdout",
     "output_type": "stream",
     "text": [
      "nan\n",
      "nan\n"
     ]
    },
    {
     "data": {
      "image/png": "[encoded data removed]",
      "text/plain": [
       "<Figure size 432x288 with 1 Axes>"
      ]
     },
     "metadata": {
      "needs_background": "light"
     },
     "output_type": "display_data"
    }
   ],
   "source": [
    "X,pnl = pnl_profile(X_test,y_pred)"
   ]
  },
  {
   "cell_type": "markdown",
   "metadata": {},
   "source": [
    "Using gridsearch"
   ]
  },
  {
   "cell_type": "code",
   "execution_count": 54,
   "metadata": {},
   "outputs": [],
   "source": [
    "rfc=RandomForestClassifier(random_state=42, n_jobs=-1)"
   ]
  },
  {
   "cell_type": "code",
   "execution_count": 55,
   "metadata": {},
   "outputs": [],
   "source": [
    "param_grid = { 'n_estimators':[200], \\\n",
    "              'max_depth':[10],\\\n",
    "             'max_features': ['auto', 'sqrt', 'log2'],\\\n",
    "             'criterion' :['gini', 'entropy']}"
   ]
  },
  {
   "cell_type": "code",
   "execution_count": 56,
   "metadata": {},
   "outputs": [],
   "source": [
    "# CV_rfc = GridSearchCV(estimator=rfc,param_grid=param_grid,cv=3)\n",
    "# CV_rfc.fit(X_train, y_train)"
   ]
  },
  {
   "cell_type": "markdown",
   "metadata": {},
   "source": [
    "-CV_rfc.best_params_\n",
    "\n",
    "{'criterion': 'gini',\n",
    " 'max_depth': 10,\n",
    " 'max_features': 'auto',\n",
    " 'n_estimators': 200}"
   ]
  },
  {
   "cell_type": "code",
   "execution_count": 57,
   "metadata": {},
   "outputs": [],
   "source": [
    "# CV_rfc.best_params_"
   ]
  },
  {
   "cell_type": "code",
   "execution_count": 62,
   "metadata": {},
   "outputs": [
    {
     "ename": "KeyboardInterrupt",
     "evalue": "",
     "output_type": "error",
     "traceback": [
      "\u001b[1;31m---------------------------------------------------------------------------\u001b[0m",
      "\u001b[1;31mKeyboardInterrupt\u001b[0m                         Traceback (most recent call last)",
      "\u001b[1;32m<ipython-input-62-6067c467c155>\u001b[0m in \u001b[0;36m<module>\u001b[1;34m\u001b[0m\n\u001b[0;32m      1\u001b[0m \u001b[0mclf\u001b[0m\u001b[1;33m=\u001b[0m\u001b[0mRandomForestClassifier\u001b[0m\u001b[1;33m(\u001b[0m\u001b[0mn_estimators\u001b[0m\u001b[1;33m=\u001b[0m\u001b[1;36m500\u001b[0m\u001b[1;33m,\u001b[0m\u001b[0mmax_depth\u001b[0m\u001b[1;33m=\u001b[0m\u001b[1;36m10\u001b[0m\u001b[1;33m,\u001b[0m\u001b[0mcriterion\u001b[0m\u001b[1;33m=\u001b[0m \u001b[1;34m'gini'\u001b[0m\u001b[1;33m,\u001b[0m\u001b[0mmax_features\u001b[0m\u001b[1;33m=\u001b[0m \u001b[1;34m'auto'\u001b[0m\u001b[1;33m,\u001b[0m\u001b[0mrandom_state\u001b[0m\u001b[1;33m=\u001b[0m\u001b[1;36m0\u001b[0m\u001b[1;33m,\u001b[0m\u001b[0mn_jobs\u001b[0m\u001b[1;33m=\u001b[0m\u001b[1;33m-\u001b[0m\u001b[1;36m1\u001b[0m\u001b[1;33m)\u001b[0m\u001b[1;33m\u001b[0m\u001b[1;33m\u001b[0m\u001b[0m\n\u001b[0;32m      2\u001b[0m \u001b[1;31m#Train the classifier\u001b[0m\u001b[1;33m\u001b[0m\u001b[1;33m\u001b[0m\u001b[1;33m\u001b[0m\u001b[0m\n\u001b[1;32m----> 3\u001b[1;33m \u001b[0mclf\u001b[0m\u001b[1;33m.\u001b[0m\u001b[0mfit\u001b[0m\u001b[1;33m(\u001b[0m\u001b[0mX_train\u001b[0m\u001b[1;33m,\u001b[0m \u001b[0my_train\u001b[0m\u001b[1;33m)\u001b[0m\u001b[1;33m\u001b[0m\u001b[1;33m\u001b[0m\u001b[0m\n\u001b[0m",
      "\u001b[1;32m~\\Anaconda3\\lib\\site-packages\\sklearn\\ensemble\\forest.py\u001b[0m in \u001b[0;36mfit\u001b[1;34m(self, X, y, sample_weight)\u001b[0m\n\u001b[0;32m    331\u001b[0m                     \u001b[0mt\u001b[0m\u001b[1;33m,\u001b[0m \u001b[0mself\u001b[0m\u001b[1;33m,\u001b[0m \u001b[0mX\u001b[0m\u001b[1;33m,\u001b[0m \u001b[0my\u001b[0m\u001b[1;33m,\u001b[0m \u001b[0msample_weight\u001b[0m\u001b[1;33m,\u001b[0m \u001b[0mi\u001b[0m\u001b[1;33m,\u001b[0m \u001b[0mlen\u001b[0m\u001b[1;33m(\u001b[0m\u001b[0mtrees\u001b[0m\u001b[1;33m)\u001b[0m\u001b[1;33m,\u001b[0m\u001b[1;33m\u001b[0m\u001b[1;33m\u001b[0m\u001b[0m\n\u001b[0;32m    332\u001b[0m                     verbose=self.verbose, class_weight=self.class_weight)\n\u001b[1;32m--> 333\u001b[1;33m                 for i, t in enumerate(trees))\n\u001b[0m\u001b[0;32m    334\u001b[0m \u001b[1;33m\u001b[0m\u001b[0m\n\u001b[0;32m    335\u001b[0m             \u001b[1;31m# Collect newly grown trees\u001b[0m\u001b[1;33m\u001b[0m\u001b[1;33m\u001b[0m\u001b[1;33m\u001b[0m\u001b[0m\n",
      "\u001b[1;32m~\\Anaconda3\\lib\\site-packages\\sklearn\\externals\\joblib\\parallel.py\u001b[0m in \u001b[0;36m__call__\u001b[1;34m(self, iterable)\u001b[0m\n\u001b[0;32m    928\u001b[0m \u001b[1;33m\u001b[0m\u001b[0m\n\u001b[0;32m    929\u001b[0m             \u001b[1;32mwith\u001b[0m \u001b[0mself\u001b[0m\u001b[1;33m.\u001b[0m\u001b[0m_backend\u001b[0m\u001b[1;33m.\u001b[0m\u001b[0mretrieval_context\u001b[0m\u001b[1;33m(\u001b[0m\u001b[1;33m)\u001b[0m\u001b[1;33m:\u001b[0m\u001b[1;33m\u001b[0m\u001b[1;33m\u001b[0m\u001b[0m\n\u001b[1;32m--> 930\u001b[1;33m                 \u001b[0mself\u001b[0m\u001b[1;33m.\u001b[0m\u001b[0mretrieve\u001b[0m\u001b[1;33m(\u001b[0m\u001b[1;33m)\u001b[0m\u001b[1;33m\u001b[0m\u001b[1;33m\u001b[0m\u001b[0m\n\u001b[0m\u001b[0;32m    931\u001b[0m             \u001b[1;31m# Make sure that we get a last message telling us we are done\u001b[0m\u001b[1;33m\u001b[0m\u001b[1;33m\u001b[0m\u001b[1;33m\u001b[0m\u001b[0m\n\u001b[0;32m    932\u001b[0m             \u001b[0melapsed_time\u001b[0m \u001b[1;33m=\u001b[0m \u001b[0mtime\u001b[0m\u001b[1;33m.\u001b[0m\u001b[0mtime\u001b[0m\u001b[1;33m(\u001b[0m\u001b[1;33m)\u001b[0m \u001b[1;33m-\u001b[0m \u001b[0mself\u001b[0m\u001b[1;33m.\u001b[0m\u001b[0m_start_time\u001b[0m\u001b[1;33m\u001b[0m\u001b[1;33m\u001b[0m\u001b[0m\n",
      "\u001b[1;32m~\\Anaconda3\\lib\\site-packages\\sklearn\\externals\\joblib\\parallel.py\u001b[0m in \u001b[0;36mretrieve\u001b[1;34m(self)\u001b[0m\n\u001b[0;32m    831\u001b[0m             \u001b[1;32mtry\u001b[0m\u001b[1;33m:\u001b[0m\u001b[1;33m\u001b[0m\u001b[1;33m\u001b[0m\u001b[0m\n\u001b[0;32m    832\u001b[0m                 \u001b[1;32mif\u001b[0m \u001b[0mgetattr\u001b[0m\u001b[1;33m(\u001b[0m\u001b[0mself\u001b[0m\u001b[1;33m.\u001b[0m\u001b[0m_backend\u001b[0m\u001b[1;33m,\u001b[0m \u001b[1;34m'supports_timeout'\u001b[0m\u001b[1;33m,\u001b[0m \u001b[1;32mFalse\u001b[0m\u001b[1;33m)\u001b[0m\u001b[1;33m:\u001b[0m\u001b[1;33m\u001b[0m\u001b[1;33m\u001b[0m\u001b[0m\n\u001b[1;32m--> 833\u001b[1;33m                     \u001b[0mself\u001b[0m\u001b[1;33m.\u001b[0m\u001b[0m_output\u001b[0m\u001b[1;33m.\u001b[0m\u001b[0mextend\u001b[0m\u001b[1;33m(\u001b[0m\u001b[0mjob\u001b[0m\u001b[1;33m.\u001b[0m\u001b[0mget\u001b[0m\u001b[1;33m(\u001b[0m\u001b[0mtimeout\u001b[0m\u001b[1;33m=\u001b[0m\u001b[0mself\u001b[0m\u001b[1;33m.\u001b[0m\u001b[0mtimeout\u001b[0m\u001b[1;33m)\u001b[0m\u001b[1;33m)\u001b[0m\u001b[1;33m\u001b[0m\u001b[1;33m\u001b[0m\u001b[0m\n\u001b[0m\u001b[0;32m    834\u001b[0m                 \u001b[1;32melse\u001b[0m\u001b[1;33m:\u001b[0m\u001b[1;33m\u001b[0m\u001b[1;33m\u001b[0m\u001b[0m\n\u001b[0;32m    835\u001b[0m                     \u001b[0mself\u001b[0m\u001b[1;33m.\u001b[0m\u001b[0m_output\u001b[0m\u001b[1;33m.\u001b[0m\u001b[0mextend\u001b[0m\u001b[1;33m(\u001b[0m\u001b[0mjob\u001b[0m\u001b[1;33m.\u001b[0m\u001b[0mget\u001b[0m\u001b[1;33m(\u001b[0m\u001b[1;33m)\u001b[0m\u001b[1;33m)\u001b[0m\u001b[1;33m\u001b[0m\u001b[1;33m\u001b[0m\u001b[0m\n",
      "\u001b[1;32m~\\Anaconda3\\lib\\multiprocessing\\pool.py\u001b[0m in \u001b[0;36mget\u001b[1;34m(self, timeout)\u001b[0m\n\u001b[0;32m    649\u001b[0m \u001b[1;33m\u001b[0m\u001b[0m\n\u001b[0;32m    650\u001b[0m     \u001b[1;32mdef\u001b[0m \u001b[0mget\u001b[0m\u001b[1;33m(\u001b[0m\u001b[0mself\u001b[0m\u001b[1;33m,\u001b[0m \u001b[0mtimeout\u001b[0m\u001b[1;33m=\u001b[0m\u001b[1;32mNone\u001b[0m\u001b[1;33m)\u001b[0m\u001b[1;33m:\u001b[0m\u001b[1;33m\u001b[0m\u001b[1;33m\u001b[0m\u001b[0m\n\u001b[1;32m--> 651\u001b[1;33m         \u001b[0mself\u001b[0m\u001b[1;33m.\u001b[0m\u001b[0mwait\u001b[0m\u001b[1;33m(\u001b[0m\u001b[0mtimeout\u001b[0m\u001b[1;33m)\u001b[0m\u001b[1;33m\u001b[0m\u001b[1;33m\u001b[0m\u001b[0m\n\u001b[0m\u001b[0;32m    652\u001b[0m         \u001b[1;32mif\u001b[0m \u001b[1;32mnot\u001b[0m \u001b[0mself\u001b[0m\u001b[1;33m.\u001b[0m\u001b[0mready\u001b[0m\u001b[1;33m(\u001b[0m\u001b[1;33m)\u001b[0m\u001b[1;33m:\u001b[0m\u001b[1;33m\u001b[0m\u001b[1;33m\u001b[0m\u001b[0m\n\u001b[0;32m    653\u001b[0m             \u001b[1;32mraise\u001b[0m \u001b[0mTimeoutError\u001b[0m\u001b[1;33m\u001b[0m\u001b[1;33m\u001b[0m\u001b[0m\n",
      "\u001b[1;32m~\\Anaconda3\\lib\\multiprocessing\\pool.py\u001b[0m in \u001b[0;36mwait\u001b[1;34m(self, timeout)\u001b[0m\n\u001b[0;32m    646\u001b[0m \u001b[1;33m\u001b[0m\u001b[0m\n\u001b[0;32m    647\u001b[0m     \u001b[1;32mdef\u001b[0m \u001b[0mwait\u001b[0m\u001b[1;33m(\u001b[0m\u001b[0mself\u001b[0m\u001b[1;33m,\u001b[0m \u001b[0mtimeout\u001b[0m\u001b[1;33m=\u001b[0m\u001b[1;32mNone\u001b[0m\u001b[1;33m)\u001b[0m\u001b[1;33m:\u001b[0m\u001b[1;33m\u001b[0m\u001b[1;33m\u001b[0m\u001b[0m\n\u001b[1;32m--> 648\u001b[1;33m         \u001b[0mself\u001b[0m\u001b[1;33m.\u001b[0m\u001b[0m_event\u001b[0m\u001b[1;33m.\u001b[0m\u001b[0mwait\u001b[0m\u001b[1;33m(\u001b[0m\u001b[0mtimeout\u001b[0m\u001b[1;33m)\u001b[0m\u001b[1;33m\u001b[0m\u001b[1;33m\u001b[0m\u001b[0m\n\u001b[0m\u001b[0;32m    649\u001b[0m \u001b[1;33m\u001b[0m\u001b[0m\n\u001b[0;32m    650\u001b[0m     \u001b[1;32mdef\u001b[0m \u001b[0mget\u001b[0m\u001b[1;33m(\u001b[0m\u001b[0mself\u001b[0m\u001b[1;33m,\u001b[0m \u001b[0mtimeout\u001b[0m\u001b[1;33m=\u001b[0m\u001b[1;32mNone\u001b[0m\u001b[1;33m)\u001b[0m\u001b[1;33m:\u001b[0m\u001b[1;33m\u001b[0m\u001b[1;33m\u001b[0m\u001b[0m\n",
      "\u001b[1;32m~\\Anaconda3\\lib\\threading.py\u001b[0m in \u001b[0;36mwait\u001b[1;34m(self, timeout)\u001b[0m\n\u001b[0;32m    550\u001b[0m             \u001b[0msignaled\u001b[0m \u001b[1;33m=\u001b[0m \u001b[0mself\u001b[0m\u001b[1;33m.\u001b[0m\u001b[0m_flag\u001b[0m\u001b[1;33m\u001b[0m\u001b[1;33m\u001b[0m\u001b[0m\n\u001b[0;32m    551\u001b[0m             \u001b[1;32mif\u001b[0m \u001b[1;32mnot\u001b[0m \u001b[0msignaled\u001b[0m\u001b[1;33m:\u001b[0m\u001b[1;33m\u001b[0m\u001b[1;33m\u001b[0m\u001b[0m\n\u001b[1;32m--> 552\u001b[1;33m                 \u001b[0msignaled\u001b[0m \u001b[1;33m=\u001b[0m \u001b[0mself\u001b[0m\u001b[1;33m.\u001b[0m\u001b[0m_cond\u001b[0m\u001b[1;33m.\u001b[0m\u001b[0mwait\u001b[0m\u001b[1;33m(\u001b[0m\u001b[0mtimeout\u001b[0m\u001b[1;33m)\u001b[0m\u001b[1;33m\u001b[0m\u001b[1;33m\u001b[0m\u001b[0m\n\u001b[0m\u001b[0;32m    553\u001b[0m             \u001b[1;32mreturn\u001b[0m \u001b[0msignaled\u001b[0m\u001b[1;33m\u001b[0m\u001b[1;33m\u001b[0m\u001b[0m\n\u001b[0;32m    554\u001b[0m \u001b[1;33m\u001b[0m\u001b[0m\n",
      "\u001b[1;32m~\\Anaconda3\\lib\\threading.py\u001b[0m in \u001b[0;36mwait\u001b[1;34m(self, timeout)\u001b[0m\n\u001b[0;32m    294\u001b[0m         \u001b[1;32mtry\u001b[0m\u001b[1;33m:\u001b[0m    \u001b[1;31m# restore state no matter what (e.g., KeyboardInterrupt)\u001b[0m\u001b[1;33m\u001b[0m\u001b[1;33m\u001b[0m\u001b[0m\n\u001b[0;32m    295\u001b[0m             \u001b[1;32mif\u001b[0m \u001b[0mtimeout\u001b[0m \u001b[1;32mis\u001b[0m \u001b[1;32mNone\u001b[0m\u001b[1;33m:\u001b[0m\u001b[1;33m\u001b[0m\u001b[1;33m\u001b[0m\u001b[0m\n\u001b[1;32m--> 296\u001b[1;33m                 \u001b[0mwaiter\u001b[0m\u001b[1;33m.\u001b[0m\u001b[0macquire\u001b[0m\u001b[1;33m(\u001b[0m\u001b[1;33m)\u001b[0m\u001b[1;33m\u001b[0m\u001b[1;33m\u001b[0m\u001b[0m\n\u001b[0m\u001b[0;32m    297\u001b[0m                 \u001b[0mgotit\u001b[0m \u001b[1;33m=\u001b[0m \u001b[1;32mTrue\u001b[0m\u001b[1;33m\u001b[0m\u001b[1;33m\u001b[0m\u001b[0m\n\u001b[0;32m    298\u001b[0m             \u001b[1;32melse\u001b[0m\u001b[1;33m:\u001b[0m\u001b[1;33m\u001b[0m\u001b[1;33m\u001b[0m\u001b[0m\n",
      "\u001b[1;31mKeyboardInterrupt\u001b[0m: "
     ]
    }
   ],
   "source": [
    "clf=RandomForestClassifier(n_estimators=500,max_depth=10,criterion= 'gini',max_features= 'auto',random_state=0,n_jobs=-1)\n",
    "#Train the classifier\n",
    "clf.fit(X_train, y_train)"
   ]
  },
  {
   "cell_type": "code",
   "execution_count": 59,
   "metadata": {},
   "outputs": [
    {
     "data": {
      "text/plain": [
       "0.541361056189808"
      ]
     },
     "execution_count": 59,
     "metadata": {},
     "output_type": "execute_result"
    }
   ],
   "source": [
    "y_pred = clf.predict(X_test)\n",
    "accuracy_score(y_test, y_pred)"
   ]
  },
  {
   "cell_type": "code",
   "execution_count": 60,
   "metadata": {},
   "outputs": [
    {
     "name": "stdout",
     "output_type": "stream",
     "text": [
      "nan\n",
      "nan\n"
     ]
    },
    {
     "data": {
      "image/png": "[encoded data removed]",
      "text/plain": [
       "<Figure size 432x288 with 1 Axes>"
      ]
     },
     "metadata": {
      "needs_background": "light"
     },
     "output_type": "display_data"
    }
   ],
   "source": [
    "X,pnl = pnl_profile(X_test,y_pred)"
   ]
  },
  {
   "cell_type": "code",
   "execution_count": 61,
   "metadata": {},
   "outputs": [
    {
     "data": {
      "text/html": [
       "<div>\n",
       "<style scoped>\n",
       "    .dataframe tbody tr th:only-of-type {\n",
       "        vertical-align: middle;\n",
       "    }\n",
       "\n",
       "    .dataframe tbody tr th {\n",
       "        vertical-align: top;\n",
       "    }\n",
       "\n",
       "    .dataframe thead th {\n",
       "        text-align: right;\n",
       "    }\n",
       "</style>\n",
       "<table border=\"1\" class=\"dataframe\">\n",
       "  <thead>\n",
       "    <tr style=\"text-align: right;\">\n",
       "      <th></th>\n",
       "      <th>returns</th>\n",
       "      <th>future returns</th>\n",
       "      <th>signal</th>\n",
       "    </tr>\n",
       "  </thead>\n",
       "  <tbody>\n",
       "    <tr>\n",
       "      <th>15674</th>\n",
       "      <td>0.002618</td>\n",
       "      <td>-0.000736</td>\n",
       "      <td>1</td>\n",
       "    </tr>\n",
       "    <tr>\n",
       "      <th>15675</th>\n",
       "      <td>-0.000736</td>\n",
       "      <td>0.002008</td>\n",
       "      <td>1</td>\n",
       "    </tr>\n",
       "    <tr>\n",
       "      <th>15676</th>\n",
       "      <td>0.002008</td>\n",
       "      <td>0.002716</td>\n",
       "      <td>1</td>\n",
       "    </tr>\n",
       "    <tr>\n",
       "      <th>15677</th>\n",
       "      <td>0.002716</td>\n",
       "      <td>0.001180</td>\n",
       "      <td>1</td>\n",
       "    </tr>\n",
       "    <tr>\n",
       "      <th>15678</th>\n",
       "      <td>0.001180</td>\n",
       "      <td>NaN</td>\n",
       "      <td>1</td>\n",
       "    </tr>\n",
       "  </tbody>\n",
       "</table>\n",
       "</div>"
      ],
      "text/plain": [
       "        returns  future returns  signal\n",
       "15674  0.002618       -0.000736       1\n",
       "15675 -0.000736        0.002008       1\n",
       "15676  0.002008        0.002716       1\n",
       "15677  0.002716        0.001180       1\n",
       "15678  0.001180             NaN       1"
      ]
     },
     "execution_count": 61,
     "metadata": {},
     "output_type": "execute_result"
    }
   ],
   "source": [
    "X.tail()"
   ]
  },
  {
   "cell_type": "code",
   "execution_count": 65,
   "metadata": {},
   "outputs": [
    {
     "data": {
      "text/plain": [
       "'              precision    recall  f1-score   support\\n\\n          -1       0.55      0.53      0.54      7898\\n           1       0.54      0.56      0.55      7781\\n\\n   micro avg       0.54      0.54      0.54     15679\\n   macro avg       0.54      0.54      0.54     15679\\nweighted avg       0.54      0.54      0.54     15679\\n'"
      ]
     },
     "execution_count": 65,
     "metadata": {},
     "output_type": "execute_result"
    }
   ],
   "source": [
    "(classification_report(y_test, y_pred))"
   ]
  },
  {
   "cell_type": "code",
   "execution_count": null,
   "metadata": {},
   "outputs": [],
   "source": []
  }
 ],
 "metadata": {
  "kernelspec": {
   "display_name": "Python 3",
   "language": "python",
   "name": "python3"
  },
  "language_info": {
   "codemirror_mode": {
    "name": "ipython",
    "version": 3
   },
   "file_extension": ".py",
   "mimetype": "text/x-python",
   "name": "python",
   "nbconvert_exporter": "python",
   "pygments_lexer": "ipython3",
   "version": "3.7.3"
  }
 },
 "nbformat": 4,
 "nbformat_minor": 2
}
