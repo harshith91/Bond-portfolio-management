{
 "cells": [
  {
   "cell_type": "code",
   "execution_count": 105,
   "metadata": {},
   "outputs": [],
   "source": [
    "import pandas as pd\n",
    "import numpy as np\n",
    "import talib\n",
    "import sys\n",
    "import random\n",
    "from collections import deque\n",
    "import quandl\n",
    "from hmmlearn.hmm import GaussianHMM\n",
    "from datetime import datetime\n",
    "import time\n",
    "from pandas_datareader import data as pdr\n",
    "from datetime import datetime, date, timedelta\n",
    "from matplotlib import cm, pyplot as plt\n",
    "from matplotlib.dates import YearLocator, MonthLocator\n",
    "from functools import reduce"
   ]
  },
  {
   "cell_type": "code",
   "execution_count": 16,
   "metadata": {},
   "outputs": [],
   "source": [
    "#bank = quandl.get('NSE/SBIN', start_date=datetime(2000,1,1), end_date=date.today())"
   ]
  },
  {
   "cell_type": "markdown",
   "metadata": {},
   "source": [
    "Downloading Intraday Data in CSV format using Zerodha API. "
   ]
  },
  {
   "cell_type": "code",
   "execution_count": 20,
   "metadata": {},
   "outputs": [],
   "source": [
    "bank = pd.read_csv(r\"C:\\Users\\1987h\\Downloads\\Data science, machine learning and Quant Trading\\algorithmic trading\\GetZerodhaData\\NIFTY BANK.csv\")"
   ]
  },
  {
   "cell_type": "code",
   "execution_count": 22,
   "metadata": {},
   "outputs": [
    {
     "data": {
      "text/html": [
       "<div>\n",
       "<style scoped>\n",
       "    .dataframe tbody tr th:only-of-type {\n",
       "        vertical-align: middle;\n",
       "    }\n",
       "\n",
       "    .dataframe tbody tr th {\n",
       "        vertical-align: top;\n",
       "    }\n",
       "\n",
       "    .dataframe thead th {\n",
       "        text-align: right;\n",
       "    }\n",
       "</style>\n",
       "<table border=\"1\" class=\"dataframe\">\n",
       "  <thead>\n",
       "    <tr style=\"text-align: right;\">\n",
       "      <th></th>\n",
       "      <th>TIME</th>\n",
       "      <th>Open</th>\n",
       "      <th>High</th>\n",
       "      <th>Low</th>\n",
       "      <th>CLOSE</th>\n",
       "      <th>VOLUME</th>\n",
       "      <th>SYMBOL</th>\n",
       "      <th>Date</th>\n",
       "      <th>TIME1</th>\n",
       "    </tr>\n",
       "  </thead>\n",
       "  <tbody>\n",
       "    <tr>\n",
       "      <th>0</th>\n",
       "      <td>2018-03-20 09:15:00</td>\n",
       "      <td>24133.95</td>\n",
       "      <td>24203.55</td>\n",
       "      <td>24133.95</td>\n",
       "      <td>24179.50</td>\n",
       "      <td>0</td>\n",
       "      <td>NIFTY BANK</td>\n",
       "      <td>2018-03-20</td>\n",
       "      <td>09:15:00</td>\n",
       "    </tr>\n",
       "    <tr>\n",
       "      <th>1</th>\n",
       "      <td>2018-03-20 09:20:00</td>\n",
       "      <td>24182.15</td>\n",
       "      <td>24187.05</td>\n",
       "      <td>24107.25</td>\n",
       "      <td>24126.95</td>\n",
       "      <td>0</td>\n",
       "      <td>NIFTY BANK</td>\n",
       "      <td>2018-03-20</td>\n",
       "      <td>09:20:00</td>\n",
       "    </tr>\n",
       "    <tr>\n",
       "      <th>2</th>\n",
       "      <td>2018-03-20 09:25:00</td>\n",
       "      <td>24126.60</td>\n",
       "      <td>24185.70</td>\n",
       "      <td>24115.05</td>\n",
       "      <td>24179.70</td>\n",
       "      <td>0</td>\n",
       "      <td>NIFTY BANK</td>\n",
       "      <td>2018-03-20</td>\n",
       "      <td>09:25:00</td>\n",
       "    </tr>\n",
       "    <tr>\n",
       "      <th>3</th>\n",
       "      <td>2018-03-20 09:30:00</td>\n",
       "      <td>24182.70</td>\n",
       "      <td>24221.55</td>\n",
       "      <td>24176.55</td>\n",
       "      <td>24210.90</td>\n",
       "      <td>0</td>\n",
       "      <td>NIFTY BANK</td>\n",
       "      <td>2018-03-20</td>\n",
       "      <td>09:30:00</td>\n",
       "    </tr>\n",
       "    <tr>\n",
       "      <th>4</th>\n",
       "      <td>2018-03-20 09:35:00</td>\n",
       "      <td>24210.80</td>\n",
       "      <td>24260.50</td>\n",
       "      <td>24207.45</td>\n",
       "      <td>24250.05</td>\n",
       "      <td>0</td>\n",
       "      <td>NIFTY BANK</td>\n",
       "      <td>2018-03-20</td>\n",
       "      <td>09:35:00</td>\n",
       "    </tr>\n",
       "  </tbody>\n",
       "</table>\n",
       "</div>"
      ],
      "text/plain": [
       "                  TIME      Open      High       Low     CLOSE  VOLUME  \\\n",
       "0  2018-03-20 09:15:00  24133.95  24203.55  24133.95  24179.50       0   \n",
       "1  2018-03-20 09:20:00  24182.15  24187.05  24107.25  24126.95       0   \n",
       "2  2018-03-20 09:25:00  24126.60  24185.70  24115.05  24179.70       0   \n",
       "3  2018-03-20 09:30:00  24182.70  24221.55  24176.55  24210.90       0   \n",
       "4  2018-03-20 09:35:00  24210.80  24260.50  24207.45  24250.05       0   \n",
       "\n",
       "       SYMBOL        Date     TIME1  \n",
       "0  NIFTY BANK  2018-03-20  09:15:00  \n",
       "1  NIFTY BANK  2018-03-20  09:20:00  \n",
       "2  NIFTY BANK  2018-03-20  09:25:00  \n",
       "3  NIFTY BANK  2018-03-20  09:30:00  \n",
       "4  NIFTY BANK  2018-03-20  09:35:00  "
      ]
     },
     "execution_count": 22,
     "metadata": {},
     "output_type": "execute_result"
    }
   ],
   "source": [
    "bank.head()"
   ]
  },
  {
   "cell_type": "code",
   "execution_count": 25,
   "metadata": {},
   "outputs": [
    {
     "data": {
      "text/plain": [
       "[<matplotlib.lines.Line2D at 0x1d189099e48>]"
      ]
     },
     "execution_count": 25,
     "metadata": {},
     "output_type": "execute_result"
    },
    {
     "data": {
      "image/png": "[encoded data removed]",
      "text/plain": [
       "<Figure size 432x288 with 1 Axes>"
      ]
     },
     "metadata": {
      "needs_background": "light"
     },
     "output_type": "display_data"
    }
   ],
   "source": [
    "x = range(bank.shape[0])\n",
    "plt.plot(x, bank[\"CLOSE\"])"
   ]
  }
 ],
 "metadata": {
  "kernelspec": {
   "display_name": "Python 3",
   "language": "python",
   "name": "python3"
  },
  "language_info": {
   "codemirror_mode": {
    "name": "ipython",
    "version": 3
   },
   "file_extension": ".py",
   "mimetype": "text/x-python",
   "name": "python",
   "nbconvert_exporter": "python",
   "pygments_lexer": "ipython3",
   "version": "3.7.3"
  }
 },
 "nbformat": 4,
 "nbformat_minor": 2
}
