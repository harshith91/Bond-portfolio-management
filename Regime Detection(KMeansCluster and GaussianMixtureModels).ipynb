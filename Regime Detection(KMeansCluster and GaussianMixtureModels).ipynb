{
 "cells": [
  {
   "cell_type": "code",
   "execution_count": 34,
   "metadata": {},
   "outputs": [],
   "source": [
    "import matplotlib.pyplot as plt\n",
    "import numpy as np\n",
    "import pandas as pd\n",
    "import talib as ta\n",
    "import seaborn as sns\n",
    "from copy import copy\n",
    "from sklearn.cluster import KMeans\n",
    "from sklearn.model_selection import train_test_split,GridSearchCV, RandomizedSearchCV\n",
    "from sklearn.preprocessing import StandardScaler\n",
    "from sklearn.pipeline import Pipeline\n",
    "from sklearn.metrics import accuracy_score"
   ]
  },
  {
   "cell_type": "code",
   "execution_count": 2,
   "metadata": {},
   "outputs": [],
   "source": [
    "from ta_suite import ta_suite\n",
    "from ta_signals import ta_signals\n",
    "from trading import act\n",
    "from trading import pnl_profile"
   ]
  },
  {
   "cell_type": "code",
   "execution_count": 3,
   "metadata": {},
   "outputs": [],
   "source": [
    "nifty = pd.read_csv(r\"C:\\Users\\1987h\\Downloads\\Data science, machine learning and Quant Trading\\algorithmic trading\\GetZerodhaData\\NIFTY 50.csv\")\n",
    "tt = ta_suite(nifty)\n",
    "df = tt.combine()"
   ]
  },
  {
   "cell_type": "code",
   "execution_count": 5,
   "metadata": {},
   "outputs": [
    {
     "data": {
      "text/plain": [
       "Index(['Date', 'Time', 'Open', 'Close', 'High', 'Low', 'Slowk', 'Slowd',\n",
       "       'MiddleBand', 'UpperBand_2', 'LowerBand_2', 'BandSplit_2',\n",
       "       'UpperBand_1', 'LowerBand_1', 'BRatio_2', 'RSI', 'ema_50_21',\n",
       "       'ema_100_50', 'ema_200_100', 'CCI', 'ATR', 'SAR', 'CORR', 'returns',\n",
       "       'future returns', 'future returns(classifier)'],\n",
       "      dtype='object')"
      ]
     },
     "execution_count": 5,
     "metadata": {},
     "output_type": "execute_result"
    }
   ],
   "source": [
    "df.columns"
   ]
  },
  {
   "cell_type": "code",
   "execution_count": 6,
   "metadata": {},
   "outputs": [],
   "source": [
    "# features\n",
    "features = ['Open', 'Close', 'High', 'Low','Slowk', 'Slowd','BandSplit_2','BRatio_2','RSI', 'ema_50_21', 'ema_100_50',\n",
    "       'ema_200_100', 'CCI', 'ATR','SAR', 'CORR','returns']\n",
    "\n",
    "#preparing the data for training and testing\n",
    "X = df[features]\n",
    "y = df['future returns(classifier)']\n",
    "X_train,X_test,y_train,y_test=train_test_split(X,y,test_size=0.4,shuffle=False)"
   ]
  },
  {
   "cell_type": "code",
   "execution_count": 7,
   "metadata": {},
   "outputs": [
    {
     "data": {
      "text/plain": [
       "Pipeline(memory=None,\n",
       "     steps=[('scaler', StandardScaler(copy=True, with_mean=True, with_std=True)), ('km', KMeans(algorithm='auto', copy_x=True, init='k-means++', max_iter=300,\n",
       "    n_clusters=3, n_init=10, n_jobs=None, precompute_distances='auto',\n",
       "    random_state=None, tol=0.0001, verbose=0))])"
      ]
     },
     "execution_count": 7,
     "metadata": {},
     "output_type": "execute_result"
    }
   ],
   "source": [
    "scaler = StandardScaler()\n",
    "km = KMeans(n_clusters = 3) #Using 3 regimes-uptrend,downtrend,sideways\n",
    "pipe = Pipeline([(\"scaler\", scaler),\n",
    "                 (\"km\",km)])\n",
    "pipe.fit(X_train)"
   ]
  },
  {
   "cell_type": "code",
   "execution_count": 8,
   "metadata": {},
   "outputs": [
    {
     "name": "stderr",
     "output_type": "stream",
     "text": [
      "C:\\Users\\1987h\\Anaconda3\\lib\\site-packages\\seaborn\\axisgrid.py:230: UserWarning: The `size` paramter has been renamed to `height`; please update your code.\n",
      "  warnings.warn(msg, UserWarning)\n"
     ]
    },
    {
     "data": {
      "image/png": "[encoded data removed]",
      "text/plain": [
       "<Figure size 910x432 with 1 Axes>"
      ]
     },
     "metadata": {
      "needs_background": "light"
     },
     "output_type": "display_data"
    },
    {
     "data": {
      "text/plain": [
       "<Figure size 720x720 with 0 Axes>"
      ]
     },
     "metadata": {},
     "output_type": "display_data"
    }
   ],
   "source": [
    "y_pred = pipe.predict(X_test)\n",
    "Regimes = pd.DataFrame(y_pred,columns=[\"Regime\"]).join(X_test.reset_index(drop=True), how='inner').assign(market_cu_return=X_test.reset_index(drop=True).returns.cumsum()).reset_index()\n",
    "\n",
    "order = [0,1,2]\n",
    "fig = sns.FacetGrid(data=Regimes,hue='Regime',hue_order=order,aspect=2,size=6)\n",
    "fig.map(plt.scatter,'index','market_cu_return',s=4).add_legend()\n",
    "plt.figure(figsize=(10,10))\n",
    "plt.show()"
   ]
  },
  {
   "cell_type": "markdown",
   "metadata": {},
   "source": [
    "# Gaussian Mixture Models"
   ]
  },
  {
   "cell_type": "code",
   "execution_count": 9,
   "metadata": {},
   "outputs": [],
   "source": [
    "from sklearn.mixture import GaussianMixture\n",
    "\n",
    "# # We need to decide ideal number of clusters to form\n",
    "# #will plot log likelihood against number of clusters\n",
    "\n",
    "# def plot_gmm(X_train):\n",
    "#     scaler = StandardScaler()\n",
    "#     split = int(X_train.shape[0]*0.7)\n",
    "#     X_batch1 = X_train[:split]\n",
    "#     X_batch2 = X_train[split:]\n",
    "#     X_batch1 = scaler.fit_transform(X_batch1)\n",
    "#     X_batch2 = scaler.transform(X_batch2)\n",
    "#     n_clusters = range(2,50,1)\n",
    "#     log_likelihood_1 = []\n",
    "#     log_likelihood_2 = []\n",
    "#     bic = []\n",
    "    \n",
    "#     for n in n_clusters:\n",
    "#         gmm = GaussianMixture(n_components=n, covariance_type='full')\n",
    "#         gmm.fit(X_batch1)\n",
    "#         log_likelihood_1.append(gmm.score(X_batch1))\n",
    "#         log_likelihood_2.append(gmm.score(X_batch2))\n",
    "#         bic.append(gmm.bic(X_batch1))\n",
    "        \n",
    "#     fig, ax1 = plt.subplots()\n",
    "#     ax1.plot(n_clusters, log_likelihood_1)\n",
    "#     ax1.plot(n_clusters, log_likelihood_2)\n",
    "#     ax1.set_xlabel('clusters')\n",
    "#     ax1.set_ylabel('log-likelihood')\n",
    "#     ax1.legend(['train', 'test'])\n",
    "    \n",
    "#     ax2 = ax1.twinx()\n",
    "#     ax2.plot(n_clusters, bic)\n",
    "#     ax2.set_ylabel('BIC')   \n",
    "#     fig.tight_layout()"
   ]
  },
  {
   "cell_type": "code",
   "execution_count": 18,
   "metadata": {},
   "outputs": [
    {
     "data": {
      "image/png": "[encoded data removed]",
      "text/plain": [
       "<Figure size 432x288 with 2 Axes>"
      ]
     },
     "metadata": {
      "needs_background": "light"
     },
     "output_type": "display_data"
    }
   ],
   "source": [
    "# plot_gmm(X_train)"
   ]
  },
  {
   "cell_type": "markdown",
   "metadata": {},
   "source": [
    "20 seems like a good number of clusters based on both log-likelihood and BIC.\n",
    "10 seems fine just based on log-likelihood"
   ]
  },
  {
   "cell_type": "code",
   "execution_count": 10,
   "metadata": {},
   "outputs": [
    {
     "name": "stderr",
     "output_type": "stream",
     "text": [
      "C:\\Users\\1987h\\Anaconda3\\lib\\site-packages\\seaborn\\axisgrid.py:230: UserWarning: The `size` paramter has been renamed to `height`; please update your code.\n",
      "  warnings.warn(msg, UserWarning)\n"
     ]
    },
    {
     "data": {
      "image/png": "[encoded data removed]",
      "text/plain": [
       "<Figure size 910x432 with 1 Axes>"
      ]
     },
     "metadata": {
      "needs_background": "light"
     },
     "output_type": "display_data"
    }
   ],
   "source": [
    "gmm = GaussianMixture(n_components=4, covariance_type='full', random_state=0)\n",
    "scaler = StandardScaler()\n",
    "x_train = scaler.fit_transform(X_train)\n",
    "x_test = scaler.transform(X_test)\n",
    "gmm.fit(x_train)\n",
    "y_pred = gmm.predict(x_test[-500:])\n",
    "Regimes = pd.DataFrame(y_pred,columns=[\"Regime\"]).join(X_test[-500:].reset_index(drop=True), how='inner').assign(market_cu_return=X_test[-500:].reset_index(drop=True).returns.cumsum()).reset_index()\n",
    "\n",
    "order = [0,1,2,3]\n",
    "fig = sns.FacetGrid(data=Regimes,hue='Regime',hue_order=order,aspect=2,size=6)\n",
    "fig.map(plt.scatter,'index','market_cu_return',s=4).add_legend()\n",
    "plt.show()"
   ]
  },
  {
   "cell_type": "markdown",
   "metadata": {},
   "source": [
    "# Combining Gaussian Mixture Models and Support Vector Classifiers"
   ]
  },
  {
   "cell_type": "code",
   "execution_count": 11,
   "metadata": {},
   "outputs": [],
   "source": [
    "gmm = GaussianMixture(n_components=4, covariance_type='spherical', n_init=100,random_state=0)\n",
    "scaler = StandardScaler()\n",
    "\n",
    "gmm.fit(np.reshape(scaler.fit_transform(X_train),(-1,X_train.shape[1])))\n",
    "y_pred = gmm.predict(np.reshape(scaler.transform(X_test),(-1,X_train.shape[1])))\n",
    "\n",
    "new_df = pd.DataFrame(y_pred,columns=[\"Regime\"]).join(X_test.reset_index(drop=True), how='inner').assign(market_cu_return=X_test.reset_index(drop=True).returns.cumsum()).reset_index()"
   ]
  },
  {
   "cell_type": "code",
   "execution_count": 12,
   "metadata": {},
   "outputs": [
    {
     "data": {
      "text/html": [
       "<div>\n",
       "<style scoped>\n",
       "    .dataframe tbody tr th:only-of-type {\n",
       "        vertical-align: middle;\n",
       "    }\n",
       "\n",
       "    .dataframe tbody tr th {\n",
       "        vertical-align: top;\n",
       "    }\n",
       "\n",
       "    .dataframe thead th {\n",
       "        text-align: right;\n",
       "    }\n",
       "</style>\n",
       "<table border=\"1\" class=\"dataframe\">\n",
       "  <thead>\n",
       "    <tr style=\"text-align: right;\">\n",
       "      <th></th>\n",
       "      <th>index</th>\n",
       "      <th>Regime</th>\n",
       "      <th>Open</th>\n",
       "      <th>Close</th>\n",
       "      <th>High</th>\n",
       "      <th>Low</th>\n",
       "      <th>Slowk</th>\n",
       "      <th>Slowd</th>\n",
       "      <th>BandSplit_2</th>\n",
       "      <th>BRatio_2</th>\n",
       "      <th>RSI</th>\n",
       "      <th>ema_50_21</th>\n",
       "      <th>ema_100_50</th>\n",
       "      <th>ema_200_100</th>\n",
       "      <th>CCI</th>\n",
       "      <th>ATR</th>\n",
       "      <th>SAR</th>\n",
       "      <th>CORR</th>\n",
       "      <th>returns</th>\n",
       "      <th>market_cu_return</th>\n",
       "    </tr>\n",
       "  </thead>\n",
       "  <tbody>\n",
       "    <tr>\n",
       "      <th>0</th>\n",
       "      <td>0</td>\n",
       "      <td>0</td>\n",
       "      <td>11789.70</td>\n",
       "      <td>11790.00</td>\n",
       "      <td>11802.35</td>\n",
       "      <td>11789.20</td>\n",
       "      <td>91.577901</td>\n",
       "      <td>94.706982</td>\n",
       "      <td>40.095287</td>\n",
       "      <td>0.112233</td>\n",
       "      <td>73.685201</td>\n",
       "      <td>-14.927850</td>\n",
       "      <td>3.303031</td>\n",
       "      <td>27.183617</td>\n",
       "      <td>108.216201</td>\n",
       "      <td>16.617961</td>\n",
       "      <td>11744.736400</td>\n",
       "      <td>0.724772</td>\n",
       "      <td>-0.000598</td>\n",
       "      <td>-0.000598</td>\n",
       "    </tr>\n",
       "    <tr>\n",
       "      <th>1</th>\n",
       "      <td>1</td>\n",
       "      <td>0</td>\n",
       "      <td>11781.70</td>\n",
       "      <td>11781.50</td>\n",
       "      <td>11789.70</td>\n",
       "      <td>11778.90</td>\n",
       "      <td>70.517295</td>\n",
       "      <td>86.226613</td>\n",
       "      <td>25.751863</td>\n",
       "      <td>-0.253962</td>\n",
       "      <td>69.638656</td>\n",
       "      <td>-17.177811</td>\n",
       "      <td>1.882984</td>\n",
       "      <td>26.258244</td>\n",
       "      <td>77.807524</td>\n",
       "      <td>16.223821</td>\n",
       "      <td>11756.259120</td>\n",
       "      <td>0.712918</td>\n",
       "      <td>-0.000679</td>\n",
       "      <td>-0.001277</td>\n",
       "    </tr>\n",
       "    <tr>\n",
       "      <th>2</th>\n",
       "      <td>2</td>\n",
       "      <td>0</td>\n",
       "      <td>11774.35</td>\n",
       "      <td>11774.55</td>\n",
       "      <td>11784.95</td>\n",
       "      <td>11772.50</td>\n",
       "      <td>41.079611</td>\n",
       "      <td>67.724936</td>\n",
       "      <td>31.716595</td>\n",
       "      <td>-0.392854</td>\n",
       "      <td>66.426504</td>\n",
       "      <td>-18.722508</td>\n",
       "      <td>0.679106</td>\n",
       "      <td>25.423517</td>\n",
       "      <td>59.619815</td>\n",
       "      <td>15.954262</td>\n",
       "      <td>11765.477296</td>\n",
       "      <td>0.701117</td>\n",
       "      <td>-0.000624</td>\n",
       "      <td>-0.001901</td>\n",
       "    </tr>\n",
       "    <tr>\n",
       "      <th>3</th>\n",
       "      <td>3</td>\n",
       "      <td>0</td>\n",
       "      <td>11776.55</td>\n",
       "      <td>11776.40</td>\n",
       "      <td>11782.50</td>\n",
       "      <td>11773.60</td>\n",
       "      <td>18.917060</td>\n",
       "      <td>43.504655</td>\n",
       "      <td>33.181827</td>\n",
       "      <td>-0.222411</td>\n",
       "      <td>66.864640</td>\n",
       "      <td>-20.100594</td>\n",
       "      <td>-0.491101</td>\n",
       "      <td>24.590225</td>\n",
       "      <td>51.753292</td>\n",
       "      <td>15.450386</td>\n",
       "      <td>11772.500000</td>\n",
       "      <td>0.658093</td>\n",
       "      <td>0.000187</td>\n",
       "      <td>-0.001714</td>\n",
       "    </tr>\n",
       "    <tr>\n",
       "      <th>4</th>\n",
       "      <td>4</td>\n",
       "      <td>0</td>\n",
       "      <td>11774.65</td>\n",
       "      <td>11774.65</td>\n",
       "      <td>11778.60</td>\n",
       "      <td>11770.65</td>\n",
       "      <td>10.850432</td>\n",
       "      <td>23.615701</td>\n",
       "      <td>23.450578</td>\n",
       "      <td>-0.203406</td>\n",
       "      <td>65.987388</td>\n",
       "      <td>-21.142147</td>\n",
       "      <td>-1.558797</td>\n",
       "      <td>23.793957</td>\n",
       "      <td>40.794797</td>\n",
       "      <td>14.914644</td>\n",
       "      <td>11802.350000</td>\n",
       "      <td>0.617857</td>\n",
       "      <td>-0.000161</td>\n",
       "      <td>-0.001875</td>\n",
       "    </tr>\n",
       "  </tbody>\n",
       "</table>\n",
       "</div>"
      ],
      "text/plain": [
       "   index  Regime      Open     Close      High       Low      Slowk  \\\n",
       "0      0       0  11789.70  11790.00  11802.35  11789.20  91.577901   \n",
       "1      1       0  11781.70  11781.50  11789.70  11778.90  70.517295   \n",
       "2      2       0  11774.35  11774.55  11784.95  11772.50  41.079611   \n",
       "3      3       0  11776.55  11776.40  11782.50  11773.60  18.917060   \n",
       "4      4       0  11774.65  11774.65  11778.60  11770.65  10.850432   \n",
       "\n",
       "       Slowd  BandSplit_2  BRatio_2        RSI  ema_50_21  ema_100_50  \\\n",
       "0  94.706982    40.095287  0.112233  73.685201 -14.927850    3.303031   \n",
       "1  86.226613    25.751863 -0.253962  69.638656 -17.177811    1.882984   \n",
       "2  67.724936    31.716595 -0.392854  66.426504 -18.722508    0.679106   \n",
       "3  43.504655    33.181827 -0.222411  66.864640 -20.100594   -0.491101   \n",
       "4  23.615701    23.450578 -0.203406  65.987388 -21.142147   -1.558797   \n",
       "\n",
       "   ema_200_100         CCI        ATR           SAR      CORR   returns  \\\n",
       "0    27.183617  108.216201  16.617961  11744.736400  0.724772 -0.000598   \n",
       "1    26.258244   77.807524  16.223821  11756.259120  0.712918 -0.000679   \n",
       "2    25.423517   59.619815  15.954262  11765.477296  0.701117 -0.000624   \n",
       "3    24.590225   51.753292  15.450386  11772.500000  0.658093  0.000187   \n",
       "4    23.793957   40.794797  14.914644  11802.350000  0.617857 -0.000161   \n",
       "\n",
       "   market_cu_return  \n",
       "0         -0.000598  \n",
       "1         -0.001277  \n",
       "2         -0.001901  \n",
       "3         -0.001714  \n",
       "4         -0.001875  "
      ]
     },
     "execution_count": 12,
     "metadata": {},
     "output_type": "execute_result"
    }
   ],
   "source": [
    "new_df.head()"
   ]
  },
  {
   "cell_type": "code",
   "execution_count": 15,
   "metadata": {},
   "outputs": [
    {
     "name": "stdout",
     "output_type": "stream",
     "text": [
      "Means for regime 0: 1.2533851444119257\n",
      "Co-Var for regime 0: 0.5705241367511009\n",
      "Means for regime 1: -0.57446851343784\n",
      "Co-Var for regime 1: 0.4162613914237072\n",
      "Means for regime 2: -0.4491806061154417\n",
      "Co-Var for regime 2: 1.924974298037862\n",
      "Means for regime 3: -0.5277011321001313\n",
      "Co-Var for regime 3: 0.3906069791920634\n"
     ]
    }
   ],
   "source": [
    "rgm = [0,1,2,3]\n",
    "for i in rgm:\n",
    "    print(f'Means for regime {i}: {gmm.means_[i][0]}')\n",
    "    print(f'Co-Var for regime {i}: {gmm.covariances_[i]}')"
   ]
  },
  {
   "cell_type": "code",
   "execution_count": 22,
   "metadata": {},
   "outputs": [],
   "source": [
    "columns = new_df.columns.drop(['Regime','index'])\n",
    "new_df[columns] = scaler.fit_transform(new_df[columns])"
   ]
  },
  {
   "cell_type": "code",
   "execution_count": 28,
   "metadata": {},
   "outputs": [
    {
     "data": {
      "text/html": [
       "<div>\n",
       "<style scoped>\n",
       "    .dataframe tbody tr th:only-of-type {\n",
       "        vertical-align: middle;\n",
       "    }\n",
       "\n",
       "    .dataframe tbody tr th {\n",
       "        vertical-align: top;\n",
       "    }\n",
       "\n",
       "    .dataframe thead th {\n",
       "        text-align: right;\n",
       "    }\n",
       "</style>\n",
       "<table border=\"1\" class=\"dataframe\">\n",
       "  <thead>\n",
       "    <tr style=\"text-align: right;\">\n",
       "      <th></th>\n",
       "      <th>index</th>\n",
       "      <th>Regime</th>\n",
       "      <th>Open</th>\n",
       "      <th>Close</th>\n",
       "      <th>High</th>\n",
       "      <th>Low</th>\n",
       "      <th>Slowk</th>\n",
       "      <th>Slowd</th>\n",
       "      <th>BandSplit_2</th>\n",
       "      <th>BRatio_2</th>\n",
       "      <th>RSI</th>\n",
       "      <th>ema_50_21</th>\n",
       "      <th>ema_100_50</th>\n",
       "      <th>ema_200_100</th>\n",
       "      <th>CCI</th>\n",
       "      <th>ATR</th>\n",
       "      <th>SAR</th>\n",
       "      <th>CORR</th>\n",
       "      <th>returns</th>\n",
       "      <th>market_cu_return</th>\n",
       "    </tr>\n",
       "  </thead>\n",
       "  <tbody>\n",
       "    <tr>\n",
       "      <th>0</th>\n",
       "      <td>0</td>\n",
       "      <td>0</td>\n",
       "      <td>0.446595</td>\n",
       "      <td>0.447045</td>\n",
       "      <td>0.453401</td>\n",
       "      <td>0.451667</td>\n",
       "      <td>1.641136</td>\n",
       "      <td>1.905297</td>\n",
       "      <td>0.012839</td>\n",
       "      <td>0.405436</td>\n",
       "      <td>1.799593</td>\n",
       "      <td>-0.489164</td>\n",
       "      <td>-0.020723</td>\n",
       "      <td>0.306489</td>\n",
       "      <td>0.983934</td>\n",
       "      <td>0.027057</td>\n",
       "      <td>0.403666</td>\n",
       "      <td>0.755123</td>\n",
       "      <td>-0.261681</td>\n",
       "      <td>0.444059</td>\n",
       "    </tr>\n",
       "    <tr>\n",
       "      <th>1</th>\n",
       "      <td>1</td>\n",
       "      <td>0</td>\n",
       "      <td>0.438964</td>\n",
       "      <td>0.438936</td>\n",
       "      <td>0.441277</td>\n",
       "      <td>0.441883</td>\n",
       "      <td>0.805966</td>\n",
       "      <td>1.542316</td>\n",
       "      <td>-0.209677</td>\n",
       "      <td>-0.876060</td>\n",
       "      <td>1.495195</td>\n",
       "      <td>-0.552838</td>\n",
       "      <td>-0.054914</td>\n",
       "      <td>0.291193</td>\n",
       "      <td>0.710081</td>\n",
       "      <td>-0.002704</td>\n",
       "      <td>0.414677</td>\n",
       "      <td>0.731249</td>\n",
       "      <td>-0.298062</td>\n",
       "      <td>0.437422</td>\n",
       "    </tr>\n",
       "    <tr>\n",
       "      <th>2</th>\n",
       "      <td>2</td>\n",
       "      <td>0</td>\n",
       "      <td>0.431953</td>\n",
       "      <td>0.432306</td>\n",
       "      <td>0.436725</td>\n",
       "      <td>0.435805</td>\n",
       "      <td>-0.361402</td>\n",
       "      <td>0.750399</td>\n",
       "      <td>-0.117143</td>\n",
       "      <td>-1.362112</td>\n",
       "      <td>1.253563</td>\n",
       "      <td>-0.596553</td>\n",
       "      <td>-0.083900</td>\n",
       "      <td>0.277395</td>\n",
       "      <td>0.546287</td>\n",
       "      <td>-0.023058</td>\n",
       "      <td>0.423485</td>\n",
       "      <td>0.707482</td>\n",
       "      <td>-0.273470</td>\n",
       "      <td>0.431320</td>\n",
       "    </tr>\n",
       "    <tr>\n",
       "      <th>3</th>\n",
       "      <td>3</td>\n",
       "      <td>0</td>\n",
       "      <td>0.434052</td>\n",
       "      <td>0.434071</td>\n",
       "      <td>0.434377</td>\n",
       "      <td>0.436849</td>\n",
       "      <td>-1.240270</td>\n",
       "      <td>-0.286288</td>\n",
       "      <td>-0.094412</td>\n",
       "      <td>-0.765647</td>\n",
       "      <td>1.286522</td>\n",
       "      <td>-0.635553</td>\n",
       "      <td>-0.112075</td>\n",
       "      <td>0.263621</td>\n",
       "      <td>0.475443</td>\n",
       "      <td>-0.061104</td>\n",
       "      <td>0.430196</td>\n",
       "      <td>0.620828</td>\n",
       "      <td>0.090789</td>\n",
       "      <td>0.433146</td>\n",
       "    </tr>\n",
       "    <tr>\n",
       "      <th>4</th>\n",
       "      <td>4</td>\n",
       "      <td>0</td>\n",
       "      <td>0.432239</td>\n",
       "      <td>0.432401</td>\n",
       "      <td>0.430639</td>\n",
       "      <td>0.434047</td>\n",
       "      <td>-1.560157</td>\n",
       "      <td>-1.137584</td>\n",
       "      <td>-0.245377</td>\n",
       "      <td>-0.699141</td>\n",
       "      <td>1.220531</td>\n",
       "      <td>-0.665029</td>\n",
       "      <td>-0.137783</td>\n",
       "      <td>0.250459</td>\n",
       "      <td>0.376753</td>\n",
       "      <td>-0.101557</td>\n",
       "      <td>0.458719</td>\n",
       "      <td>0.539792</td>\n",
       "      <td>-0.065620</td>\n",
       "      <td>0.431569</td>\n",
       "    </tr>\n",
       "  </tbody>\n",
       "</table>\n",
       "</div>"
      ],
      "text/plain": [
       "   index  Regime      Open     Close      High       Low     Slowk     Slowd  \\\n",
       "0      0       0  0.446595  0.447045  0.453401  0.451667  1.641136  1.905297   \n",
       "1      1       0  0.438964  0.438936  0.441277  0.441883  0.805966  1.542316   \n",
       "2      2       0  0.431953  0.432306  0.436725  0.435805 -0.361402  0.750399   \n",
       "3      3       0  0.434052  0.434071  0.434377  0.436849 -1.240270 -0.286288   \n",
       "4      4       0  0.432239  0.432401  0.430639  0.434047 -1.560157 -1.137584   \n",
       "\n",
       "   BandSplit_2  BRatio_2       RSI  ema_50_21  ema_100_50  ema_200_100  \\\n",
       "0     0.012839  0.405436  1.799593  -0.489164   -0.020723     0.306489   \n",
       "1    -0.209677 -0.876060  1.495195  -0.552838   -0.054914     0.291193   \n",
       "2    -0.117143 -1.362112  1.253563  -0.596553   -0.083900     0.277395   \n",
       "3    -0.094412 -0.765647  1.286522  -0.635553   -0.112075     0.263621   \n",
       "4    -0.245377 -0.699141  1.220531  -0.665029   -0.137783     0.250459   \n",
       "\n",
       "        CCI       ATR       SAR      CORR   returns  market_cu_return  \n",
       "0  0.983934  0.027057  0.403666  0.755123 -0.261681          0.444059  \n",
       "1  0.710081 -0.002704  0.414677  0.731249 -0.298062          0.437422  \n",
       "2  0.546287 -0.023058  0.423485  0.707482 -0.273470          0.431320  \n",
       "3  0.475443 -0.061104  0.430196  0.620828  0.090789          0.433146  \n",
       "4  0.376753 -0.101557  0.458719  0.539792 -0.065620          0.431569  "
      ]
     },
     "execution_count": 28,
     "metadata": {},
     "output_type": "execute_result"
    }
   ],
   "source": [
    "new_df.head()"
   ]
  },
  {
   "cell_type": "markdown",
   "metadata": {},
   "source": [
    "now i divide this test data from our Gaussian Mixture model into 80:20 ratio into our new train test set for SVC"
   ]
  },
  {
   "cell_type": "code",
   "execution_count": 25,
   "metadata": {},
   "outputs": [],
   "source": [
    "split = int(.8*new_df.shape[0])\n",
    "X_new = new_df.drop(['index','market_cu_return'],axis=1)\n",
    "y = copy(y_test)"
   ]
  },
  {
   "cell_type": "code",
   "execution_count": 29,
   "metadata": {},
   "outputs": [
    {
     "name": "stdout",
     "output_type": "stream",
     "text": [
      "Fitting 5 folds for each of 50 candidates, totalling 250 fits\n",
      "[Parallel(n_jobs=-1)]: Using backend LokyBackend with 8 concurrent workers.\n",
      "[Parallel(n_jobs=-1)]: Done   1 tasks      | elapsed:    4.4s\n",
      "[Parallel(n_jobs=-1)]: Done   2 tasks      | elapsed:    4.4s\n",
      "[Parallel(n_jobs=-1)]: Done   3 tasks      | elapsed:    4.4s\n",
      "[Parallel(n_jobs=-1)]: Done   4 tasks      | elapsed:    4.4s\n",
      "[Parallel(n_jobs=-1)]: Done   5 tasks      | elapsed:    4.4s\n",
      "[Parallel(n_jobs=-1)]: Done   6 tasks      | elapsed:    5.0s\n",
      "[Parallel(n_jobs=-1)]: Done   7 tasks      | elapsed:    5.0s\n",
      "[Parallel(n_jobs=-1)]: Done   8 tasks      | elapsed:    5.0s\n",
      "[Parallel(n_jobs=-1)]: Done   9 tasks      | elapsed:    5.5s\n",
      "[Parallel(n_jobs=-1)]: Done  10 tasks      | elapsed:    5.5s\n",
      "[Parallel(n_jobs=-1)]: Done  11 tasks      | elapsed:    5.9s\n",
      "[Parallel(n_jobs=-1)]: Done  12 tasks      | elapsed:    6.3s\n",
      "[Parallel(n_jobs=-1)]: Done  13 tasks      | elapsed:    6.3s\n",
      "[Parallel(n_jobs=-1)]: Done  14 tasks      | elapsed:    6.7s\n",
      "[Parallel(n_jobs=-1)]: Done  15 tasks      | elapsed:    7.1s\n",
      "[Parallel(n_jobs=-1)]: Done  16 tasks      | elapsed:   18.9s\n",
      "[Parallel(n_jobs=-1)]: Done  17 tasks      | elapsed:   18.9s\n",
      "[Parallel(n_jobs=-1)]: Done  18 tasks      | elapsed:   19.0s\n",
      "[Parallel(n_jobs=-1)]: Done  19 tasks      | elapsed:   19.5s\n",
      "[Parallel(n_jobs=-1)]: Done  20 tasks      | elapsed:   19.5s\n",
      "[Parallel(n_jobs=-1)]: Done  21 tasks      | elapsed:   21.2s\n",
      "[Parallel(n_jobs=-1)]: Done  22 tasks      | elapsed:   21.3s\n",
      "[Parallel(n_jobs=-1)]: Done  23 tasks      | elapsed:   21.7s\n",
      "[Parallel(n_jobs=-1)]: Done  24 tasks      | elapsed:   22.3s\n",
      "[Parallel(n_jobs=-1)]: Done  25 tasks      | elapsed:   22.8s\n",
      "[Parallel(n_jobs=-1)]: Done  26 tasks      | elapsed:   23.4s\n",
      "[Parallel(n_jobs=-1)]: Done  27 tasks      | elapsed:   24.0s\n",
      "[Parallel(n_jobs=-1)]: Done  28 tasks      | elapsed:   24.4s\n",
      "[Parallel(n_jobs=-1)]: Done  29 tasks      | elapsed:   24.5s\n",
      "[Parallel(n_jobs=-1)]: Done  30 tasks      | elapsed:   24.6s\n",
      "[Parallel(n_jobs=-1)]: Done  31 tasks      | elapsed:   24.8s\n",
      "[Parallel(n_jobs=-1)]: Done  32 tasks      | elapsed:   25.6s\n",
      "[Parallel(n_jobs=-1)]: Done  33 tasks      | elapsed:   25.6s\n",
      "[Parallel(n_jobs=-1)]: Done  34 tasks      | elapsed:   25.8s\n",
      "[Parallel(n_jobs=-1)]: Done  35 tasks      | elapsed:   26.0s\n",
      "[Parallel(n_jobs=-1)]: Done  36 tasks      | elapsed:   26.5s\n",
      "[Parallel(n_jobs=-1)]: Done  37 tasks      | elapsed:   26.5s\n",
      "[Parallel(n_jobs=-1)]: Done  38 tasks      | elapsed:   26.7s\n",
      "[Parallel(n_jobs=-1)]: Done  39 tasks      | elapsed:   27.1s\n",
      "[Parallel(n_jobs=-1)]: Done  40 tasks      | elapsed:   27.6s\n",
      "[Parallel(n_jobs=-1)]: Done  41 tasks      | elapsed:   28.0s\n",
      "[Parallel(n_jobs=-1)]: Done  42 tasks      | elapsed:   28.5s\n",
      "[Parallel(n_jobs=-1)]: Done  43 tasks      | elapsed:   28.8s\n",
      "[Parallel(n_jobs=-1)]: Done  44 tasks      | elapsed:   29.0s\n",
      "[Parallel(n_jobs=-1)]: Done  45 tasks      | elapsed:   29.1s\n",
      "[Parallel(n_jobs=-1)]: Done  46 tasks      | elapsed:   29.2s\n",
      "[Parallel(n_jobs=-1)]: Done  47 tasks      | elapsed:   29.3s\n",
      "[Parallel(n_jobs=-1)]: Done  48 tasks      | elapsed:   29.5s\n",
      "[Parallel(n_jobs=-1)]: Done  49 tasks      | elapsed:   29.6s\n",
      "[Parallel(n_jobs=-1)]: Done  50 tasks      | elapsed:   29.8s\n",
      "[Parallel(n_jobs=-1)]: Done  51 tasks      | elapsed:   29.8s\n",
      "[Parallel(n_jobs=-1)]: Done  52 tasks      | elapsed:   29.8s\n",
      "[Parallel(n_jobs=-1)]: Done  53 tasks      | elapsed:   30.0s\n",
      "[Parallel(n_jobs=-1)]: Done  54 tasks      | elapsed:   30.3s\n",
      "[Parallel(n_jobs=-1)]: Done  55 tasks      | elapsed:   30.6s\n",
      "[Parallel(n_jobs=-1)]: Done  56 tasks      | elapsed:   30.6s\n",
      "[Parallel(n_jobs=-1)]: Done  57 tasks      | elapsed:   30.8s\n",
      "[Parallel(n_jobs=-1)]: Done  58 tasks      | elapsed:   30.8s\n",
      "[Parallel(n_jobs=-1)]: Done  59 tasks      | elapsed:   30.9s\n",
      "[Parallel(n_jobs=-1)]: Done  60 tasks      | elapsed:   30.9s\n",
      "[Parallel(n_jobs=-1)]: Done  61 tasks      | elapsed:   31.0s\n",
      "[Parallel(n_jobs=-1)]: Done  62 tasks      | elapsed:   31.1s\n",
      "[Parallel(n_jobs=-1)]: Done  63 tasks      | elapsed:   31.2s\n",
      "[Parallel(n_jobs=-1)]: Done  64 tasks      | elapsed:   32.2s\n",
      "[Parallel(n_jobs=-1)]: Done  65 tasks      | elapsed:   32.3s\n",
      "[Parallel(n_jobs=-1)]: Done  66 tasks      | elapsed:   32.5s\n",
      "[Parallel(n_jobs=-1)]: Done  67 tasks      | elapsed:   33.3s\n",
      "[Parallel(n_jobs=-1)]: Done  68 tasks      | elapsed:   33.4s\n",
      "[Parallel(n_jobs=-1)]: Done  69 tasks      | elapsed:   33.6s\n",
      "[Parallel(n_jobs=-1)]: Done  70 tasks      | elapsed:   34.3s\n",
      "[Parallel(n_jobs=-1)]: Done  71 tasks      | elapsed:   34.9s\n",
      "[Parallel(n_jobs=-1)]: Done  72 tasks      | elapsed:   35.6s\n",
      "[Parallel(n_jobs=-1)]: Done  73 tasks      | elapsed:   35.7s\n",
      "[Parallel(n_jobs=-1)]: Done  74 tasks      | elapsed:   35.9s\n",
      "[Parallel(n_jobs=-1)]: Done  75 tasks      | elapsed:   36.1s\n",
      "[Parallel(n_jobs=-1)]: Done  76 tasks      | elapsed:   36.3s\n",
      "[Parallel(n_jobs=-1)]: Done  77 tasks      | elapsed:   36.5s\n",
      "[Parallel(n_jobs=-1)]: Done  78 tasks      | elapsed:   36.7s\n",
      "[Parallel(n_jobs=-1)]: Done  79 tasks      | elapsed:   36.8s\n",
      "[Parallel(n_jobs=-1)]: Done  80 tasks      | elapsed:   39.1s\n",
      "[Parallel(n_jobs=-1)]: Done  81 tasks      | elapsed:   39.1s\n",
      "[Parallel(n_jobs=-1)]: Done  82 tasks      | elapsed:   40.7s\n",
      "[Parallel(n_jobs=-1)]: Done  83 tasks      | elapsed:   41.4s\n",
      "[Parallel(n_jobs=-1)]: Done  84 tasks      | elapsed:   41.5s\n",
      "[Parallel(n_jobs=-1)]: Done  85 tasks      | elapsed:   43.0s\n",
      "[Parallel(n_jobs=-1)]: Done  86 tasks      | elapsed:   45.4s\n",
      "[Parallel(n_jobs=-1)]: Done  87 tasks      | elapsed:   45.5s\n",
      "[Parallel(n_jobs=-1)]: Done  88 tasks      | elapsed:   47.0s\n",
      "[Parallel(n_jobs=-1)]: Done  89 tasks      | elapsed:   47.6s\n",
      "[Parallel(n_jobs=-1)]: Done  90 tasks      | elapsed:   47.9s\n",
      "[Parallel(n_jobs=-1)]: Done  91 tasks      | elapsed:   48.3s\n",
      "[Parallel(n_jobs=-1)]: Done  92 tasks      | elapsed:   48.8s\n",
      "[Parallel(n_jobs=-1)]: Done  93 tasks      | elapsed:   49.2s\n",
      "[Parallel(n_jobs=-1)]: Done  94 tasks      | elapsed:   49.3s\n",
      "[Parallel(n_jobs=-1)]: Done  95 tasks      | elapsed:   49.3s\n",
      "[Parallel(n_jobs=-1)]: Done  96 tasks      | elapsed:   49.5s\n",
      "[Parallel(n_jobs=-1)]: Done  97 tasks      | elapsed:   49.6s\n",
      "[Parallel(n_jobs=-1)]: Done  98 tasks      | elapsed:   49.7s\n",
      "[Parallel(n_jobs=-1)]: Done  99 tasks      | elapsed:   49.7s\n",
      "[Parallel(n_jobs=-1)]: Done 100 tasks      | elapsed:   49.7s\n",
      "[Parallel(n_jobs=-1)]: Done 101 tasks      | elapsed:   49.8s\n",
      "[Parallel(n_jobs=-1)]: Done 102 tasks      | elapsed:   49.9s\n",
      "[Parallel(n_jobs=-1)]: Done 103 tasks      | elapsed:   50.0s\n",
      "[Parallel(n_jobs=-1)]: Done 104 tasks      | elapsed:   50.2s\n",
      "[Parallel(n_jobs=-1)]: Done 105 tasks      | elapsed:   50.4s\n",
      "[Parallel(n_jobs=-1)]: Done 106 tasks      | elapsed:   50.5s\n",
      "[Parallel(n_jobs=-1)]: Done 107 tasks      | elapsed:   50.5s\n",
      "[Parallel(n_jobs=-1)]: Done 108 tasks      | elapsed:   50.6s\n",
      "[Parallel(n_jobs=-1)]: Done 109 tasks      | elapsed:   50.7s\n",
      "[Parallel(n_jobs=-1)]: Done 110 tasks      | elapsed:   50.8s\n",
      "[Parallel(n_jobs=-1)]: Done 111 tasks      | elapsed:   50.9s\n",
      "[Parallel(n_jobs=-1)]: Done 112 tasks      | elapsed:   51.1s\n",
      "[Parallel(n_jobs=-1)]: Done 113 tasks      | elapsed:   51.3s\n",
      "[Parallel(n_jobs=-1)]: Done 114 tasks      | elapsed:   51.4s\n",
      "[Parallel(n_jobs=-1)]: Done 115 tasks      | elapsed:   51.5s\n",
      "[Parallel(n_jobs=-1)]: Done 116 tasks      | elapsed:   51.7s\n",
      "[Parallel(n_jobs=-1)]: Done 117 tasks      | elapsed:   51.8s\n",
      "[Parallel(n_jobs=-1)]: Done 118 tasks      | elapsed:   51.9s\n",
      "[Parallel(n_jobs=-1)]: Done 119 tasks      | elapsed:   52.1s\n",
      "[Parallel(n_jobs=-1)]: Done 120 tasks      | elapsed:   52.3s\n",
      "[Parallel(n_jobs=-1)]: Done 121 tasks      | elapsed:   52.3s\n",
      "[Parallel(n_jobs=-1)]: Done 122 tasks      | elapsed:   52.5s\n",
      "[Parallel(n_jobs=-1)]: Done 123 tasks      | elapsed:   52.7s\n",
      "[Parallel(n_jobs=-1)]: Done 124 tasks      | elapsed:   52.7s\n",
      "[Parallel(n_jobs=-1)]: Done 125 tasks      | elapsed:   52.9s\n",
      "[Parallel(n_jobs=-1)]: Done 126 tasks      | elapsed:   55.4s\n",
      "[Parallel(n_jobs=-1)]: Done 127 tasks      | elapsed:   55.4s\n",
      "[Parallel(n_jobs=-1)]: Done 128 tasks      | elapsed:   55.6s\n",
      "[Parallel(n_jobs=-1)]: Done 129 tasks      | elapsed:   55.7s\n",
      "[Parallel(n_jobs=-1)]: Done 130 tasks      | elapsed:   55.7s\n"
     ]
    },
    {
     "name": "stdout",
     "output_type": "stream",
     "text": [
      "[Parallel(n_jobs=-1)]: Done 131 tasks      | elapsed:   56.6s\n",
      "[Parallel(n_jobs=-1)]: Done 132 tasks      | elapsed:   56.6s\n",
      "[Parallel(n_jobs=-1)]: Done 133 tasks      | elapsed:   56.7s\n",
      "[Parallel(n_jobs=-1)]: Done 134 tasks      | elapsed:   56.7s\n",
      "[Parallel(n_jobs=-1)]: Done 135 tasks      | elapsed:   56.8s\n",
      "[Parallel(n_jobs=-1)]: Done 136 tasks      | elapsed:   57.0s\n",
      "[Parallel(n_jobs=-1)]: Done 137 tasks      | elapsed:   57.6s\n",
      "[Parallel(n_jobs=-1)]: Done 138 tasks      | elapsed:   57.6s\n",
      "[Parallel(n_jobs=-1)]: Done 139 tasks      | elapsed:   57.9s\n",
      "[Parallel(n_jobs=-1)]: Done 140 tasks      | elapsed:   58.3s\n",
      "[Parallel(n_jobs=-1)]: Done 141 tasks      | elapsed:   58.6s\n",
      "[Parallel(n_jobs=-1)]: Done 142 tasks      | elapsed:   58.9s\n",
      "[Parallel(n_jobs=-1)]: Done 143 tasks      | elapsed:   59.0s\n",
      "[Parallel(n_jobs=-1)]: Done 144 tasks      | elapsed:   59.0s\n",
      "[Parallel(n_jobs=-1)]: Done 145 tasks      | elapsed:   59.2s\n",
      "[Parallel(n_jobs=-1)]: Done 146 tasks      | elapsed:   60.0s\n",
      "[Parallel(n_jobs=-1)]: Done 147 tasks      | elapsed:   60.0s\n",
      "[Parallel(n_jobs=-1)]: Done 148 tasks      | elapsed:  1.0min\n",
      "[Parallel(n_jobs=-1)]: Done 149 tasks      | elapsed:  1.0min\n",
      "[Parallel(n_jobs=-1)]: Done 150 tasks      | elapsed:  1.0min\n",
      "[Parallel(n_jobs=-1)]: Done 151 tasks      | elapsed:  1.0min\n",
      "[Parallel(n_jobs=-1)]: Done 152 tasks      | elapsed:  1.0min\n",
      "[Parallel(n_jobs=-1)]: Done 153 tasks      | elapsed:  1.0min\n",
      "[Parallel(n_jobs=-1)]: Done 154 tasks      | elapsed:  1.0min\n",
      "[Parallel(n_jobs=-1)]: Done 155 tasks      | elapsed:  1.0min\n",
      "[Parallel(n_jobs=-1)]: Done 156 tasks      | elapsed:  1.0min\n",
      "[Parallel(n_jobs=-1)]: Done 157 tasks      | elapsed:  1.0min\n",
      "[Parallel(n_jobs=-1)]: Done 158 tasks      | elapsed:  1.0min\n",
      "[Parallel(n_jobs=-1)]: Done 159 tasks      | elapsed:  1.0min\n",
      "[Parallel(n_jobs=-1)]: Done 160 tasks      | elapsed:  1.0min\n",
      "[Parallel(n_jobs=-1)]: Done 161 tasks      | elapsed:  1.1min\n",
      "[Parallel(n_jobs=-1)]: Done 162 tasks      | elapsed:  1.1min\n",
      "[Parallel(n_jobs=-1)]: Done 163 tasks      | elapsed:  1.1min\n",
      "[Parallel(n_jobs=-1)]: Done 164 tasks      | elapsed:  1.1min\n",
      "[Parallel(n_jobs=-1)]: Done 165 tasks      | elapsed:  1.1min\n",
      "[Parallel(n_jobs=-1)]: Done 166 tasks      | elapsed:  1.1min\n",
      "[Parallel(n_jobs=-1)]: Done 167 tasks      | elapsed:  1.1min\n",
      "[Parallel(n_jobs=-1)]: Done 168 tasks      | elapsed:  1.2min\n",
      "[Parallel(n_jobs=-1)]: Done 169 tasks      | elapsed:  1.2min\n",
      "[Parallel(n_jobs=-1)]: Done 170 tasks      | elapsed:  1.2min\n",
      "[Parallel(n_jobs=-1)]: Done 171 tasks      | elapsed:  1.2min\n",
      "[Parallel(n_jobs=-1)]: Done 172 tasks      | elapsed:  1.2min\n",
      "[Parallel(n_jobs=-1)]: Done 173 tasks      | elapsed:  1.2min\n",
      "[Parallel(n_jobs=-1)]: Done 174 tasks      | elapsed:  1.2min\n",
      "[Parallel(n_jobs=-1)]: Done 175 tasks      | elapsed:  1.2min\n",
      "[Parallel(n_jobs=-1)]: Done 176 tasks      | elapsed:  1.2min\n",
      "[Parallel(n_jobs=-1)]: Done 177 tasks      | elapsed:  1.2min\n",
      "[Parallel(n_jobs=-1)]: Done 178 tasks      | elapsed:  1.2min\n",
      "[Parallel(n_jobs=-1)]: Done 179 tasks      | elapsed:  1.3min\n",
      "[Parallel(n_jobs=-1)]: Done 180 tasks      | elapsed:  1.3min\n",
      "[Parallel(n_jobs=-1)]: Done 181 tasks      | elapsed:  1.3min\n",
      "[Parallel(n_jobs=-1)]: Done 182 tasks      | elapsed:  1.3min\n",
      "[Parallel(n_jobs=-1)]: Done 183 tasks      | elapsed:  1.3min\n",
      "[Parallel(n_jobs=-1)]: Done 184 tasks      | elapsed:  1.3min\n",
      "[Parallel(n_jobs=-1)]: Done 185 tasks      | elapsed:  1.3min\n",
      "[Parallel(n_jobs=-1)]: Done 186 tasks      | elapsed:  1.3min\n",
      "[Parallel(n_jobs=-1)]: Done 187 tasks      | elapsed:  1.3min\n",
      "[Parallel(n_jobs=-1)]: Done 188 tasks      | elapsed:  1.3min\n",
      "[Parallel(n_jobs=-1)]: Done 189 tasks      | elapsed:  1.3min\n",
      "[Parallel(n_jobs=-1)]: Done 190 tasks      | elapsed:  1.3min\n",
      "[Parallel(n_jobs=-1)]: Done 191 tasks      | elapsed:  1.3min\n",
      "[Parallel(n_jobs=-1)]: Done 192 tasks      | elapsed:  1.3min\n",
      "[Parallel(n_jobs=-1)]: Done 193 tasks      | elapsed:  1.3min\n",
      "[Parallel(n_jobs=-1)]: Done 194 tasks      | elapsed:  1.3min\n",
      "[Parallel(n_jobs=-1)]: Done 195 tasks      | elapsed:  1.3min\n",
      "[Parallel(n_jobs=-1)]: Done 196 tasks      | elapsed:  1.3min\n",
      "[Parallel(n_jobs=-1)]: Done 197 tasks      | elapsed:  1.3min\n",
      "[Parallel(n_jobs=-1)]: Done 198 tasks      | elapsed:  1.4min\n",
      "[Parallel(n_jobs=-1)]: Done 199 tasks      | elapsed:  1.4min\n",
      "[Parallel(n_jobs=-1)]: Done 200 tasks      | elapsed:  1.4min\n",
      "[Parallel(n_jobs=-1)]: Done 201 tasks      | elapsed:  1.4min\n",
      "[Parallel(n_jobs=-1)]: Done 202 tasks      | elapsed:  1.4min\n",
      "[Parallel(n_jobs=-1)]: Done 203 tasks      | elapsed:  1.4min\n",
      "[Parallel(n_jobs=-1)]: Done 204 tasks      | elapsed:  1.4min\n",
      "[Parallel(n_jobs=-1)]: Done 205 tasks      | elapsed:  1.4min\n",
      "[Parallel(n_jobs=-1)]: Done 206 tasks      | elapsed:  1.5min\n",
      "[Parallel(n_jobs=-1)]: Done 207 tasks      | elapsed:  1.5min\n",
      "[Parallel(n_jobs=-1)]: Done 208 tasks      | elapsed:  1.5min\n",
      "[Parallel(n_jobs=-1)]: Done 209 tasks      | elapsed:  1.5min\n",
      "[Parallel(n_jobs=-1)]: Done 210 tasks      | elapsed:  1.5min\n",
      "[Parallel(n_jobs=-1)]: Done 211 tasks      | elapsed:  1.5min\n",
      "[Parallel(n_jobs=-1)]: Done 212 tasks      | elapsed:  1.5min\n",
      "[Parallel(n_jobs=-1)]: Done 213 tasks      | elapsed:  1.5min\n",
      "[Parallel(n_jobs=-1)]: Done 214 tasks      | elapsed:  1.5min\n",
      "[Parallel(n_jobs=-1)]: Done 215 tasks      | elapsed:  1.5min\n",
      "[Parallel(n_jobs=-1)]: Done 216 tasks      | elapsed:  1.5min\n",
      "[Parallel(n_jobs=-1)]: Done 217 tasks      | elapsed:  1.5min\n",
      "[Parallel(n_jobs=-1)]: Done 218 tasks      | elapsed:  1.5min\n",
      "[Parallel(n_jobs=-1)]: Done 219 tasks      | elapsed:  1.5min\n",
      "[Parallel(n_jobs=-1)]: Done 220 tasks      | elapsed:  1.6min\n",
      "[Parallel(n_jobs=-1)]: Done 221 tasks      | elapsed:  1.6min\n",
      "[Parallel(n_jobs=-1)]: Done 222 tasks      | elapsed:  1.6min\n",
      "[Parallel(n_jobs=-1)]: Done 223 tasks      | elapsed:  1.6min\n",
      "[Parallel(n_jobs=-1)]: Done 224 tasks      | elapsed:  1.7min\n",
      "[Parallel(n_jobs=-1)]: Done 225 tasks      | elapsed:  1.7min\n",
      "[Parallel(n_jobs=-1)]: Done 226 tasks      | elapsed:  1.7min\n",
      "[Parallel(n_jobs=-1)]: Done 227 tasks      | elapsed:  1.7min\n",
      "[Parallel(n_jobs=-1)]: Done 228 tasks      | elapsed:  1.8min\n",
      "[Parallel(n_jobs=-1)]: Done 229 tasks      | elapsed:  1.8min\n",
      "[Parallel(n_jobs=-1)]: Done 230 tasks      | elapsed:  1.8min\n",
      "[Parallel(n_jobs=-1)]: Done 231 tasks      | elapsed:  1.8min\n",
      "[Parallel(n_jobs=-1)]: Done 232 tasks      | elapsed:  1.8min\n",
      "[Parallel(n_jobs=-1)]: Done 233 tasks      | elapsed:  1.8min\n",
      "[Parallel(n_jobs=-1)]: Done 234 tasks      | elapsed:  1.8min\n",
      "[Parallel(n_jobs=-1)]: Done 235 tasks      | elapsed:  1.8min\n",
      "[Parallel(n_jobs=-1)]: Done 241 out of 250 | elapsed:  1.8min remaining:    3.9s\n",
      "[Parallel(n_jobs=-1)]: Done 247 out of 250 | elapsed:  1.8min remaining:    1.2s\n",
      "[Parallel(n_jobs=-1)]: Done 250 out of 250 | elapsed:  1.8min finished\n"
     ]
    },
    {
     "data": {
      "text/plain": [
       "RandomizedSearchCV(cv=5, error_score='raise-deprecating',\n",
       "          estimator=Pipeline(memory=None,\n",
       "     steps=[('projection', Nystroem(coef0=None, degree=None, gamma=None, kernel='rbf',\n",
       "     kernel_params=None, n_components=100, random_state=0)), ('classifier', LinearSVC(C=1.0, class_weight=None, dual=True, fit_intercept=True,\n",
       "     intercept_scaling=1, loss='squared_hinge', max_iter=1000,\n",
       "     multi_class='ovr', penalty='l2', random_state=None, tol=0.0001,\n",
       "     verbose=0))]),\n",
       "          fit_params=None, iid='warn', n_iter=50, n_jobs=-1,\n",
       "          param_distributions={'projection__gamma': array([1.00000e-02, 1.09750e-02, ..., 9.11163e+01, 1.00000e+02]), 'classifier__C': array([1.00000e-02, 1.09750e-02, ..., 9.11163e+01, 1.00000e+02])},\n",
       "          pre_dispatch='2*n_jobs', random_state=0, refit=True,\n",
       "          return_train_score='warn', scoring=None, verbose=50)"
      ]
     },
     "execution_count": 29,
     "metadata": {},
     "output_type": "execute_result"
    }
   ],
   "source": [
    "from sklearn import svm\n",
    "from sklearn.kernel_approximation import Nystroem\n",
    "\n",
    "kernel_approx = Nystroem(kernel='rbf', n_components=100, random_state=0)\n",
    "clf = svm.LinearSVC()\n",
    "\n",
    "pipe = Pipeline([('projection',kernel_approx),\n",
    "                ('classifier',clf)])\n",
    "param_grid = {'projection__gamma':np.logspace(-2,2,100),\n",
    "             'classifier__C':np.logspace(-2,2,100)}\n",
    "random_search = RandomizedSearchCV(pipe, param_grid, cv=5, n_jobs=-1, n_iter=50, verbose=50, random_state=0)\n",
    "random_search.fit(X_new[:split], y[:split])"
   ]
  },
  {
   "cell_type": "code",
   "execution_count": 32,
   "metadata": {},
   "outputs": [],
   "source": [
    "model = random_search.best_estimator_"
   ]
  },
  {
   "cell_type": "code",
   "execution_count": 35,
   "metadata": {},
   "outputs": [
    {
     "data": {
      "text/plain": [
       "0.5057397959183674"
      ]
     },
     "execution_count": 35,
     "metadata": {},
     "output_type": "execute_result"
    }
   ],
   "source": [
    "y_pred = model.predict(X_new[split:])\n",
    "accuracy_score(y[split:], y_pred)"
   ]
  },
  {
   "cell_type": "code",
   "execution_count": 37,
   "metadata": {},
   "outputs": [
    {
     "name": "stderr",
     "output_type": "stream",
     "text": [
      "No handles with labels found to put in legend.\n"
     ]
    },
    {
     "name": "stdout",
     "output_type": "stream",
     "text": [
      "nan\n",
      "nan\n"
     ]
    },
    {
     "data": {
      "image/png": "[encoded data removed]",
      "text/plain": [
       "<Figure size 432x288 with 1 Axes>"
      ]
     },
     "metadata": {
      "needs_background": "light"
     },
     "output_type": "display_data"
    }
   ],
   "source": [
    "X,pnl = pnl_profile(X_test[split:],y_pred)"
   ]
  },
  {
   "cell_type": "code",
   "execution_count": 38,
   "metadata": {},
   "outputs": [
    {
     "data": {
      "text/plain": [
       "(3136, 3)"
      ]
     },
     "execution_count": 38,
     "metadata": {},
     "output_type": "execute_result"
    }
   ],
   "source": [
    "X.shape"
   ]
  },
  {
   "cell_type": "code",
   "execution_count": null,
   "metadata": {},
   "outputs": [],
   "source": []
  }
 ],
 "metadata": {
  "kernelspec": {
   "display_name": "Python 3",
   "language": "python",
   "name": "python3"
  },
  "language_info": {
   "codemirror_mode": {
    "name": "ipython",
    "version": 3
   },
   "file_extension": ".py",
   "mimetype": "text/x-python",
   "name": "python",
   "nbconvert_exporter": "python",
   "pygments_lexer": "ipython3",
   "version": "3.7.3"
  }
 },
 "nbformat": 4,
 "nbformat_minor": 2
}
